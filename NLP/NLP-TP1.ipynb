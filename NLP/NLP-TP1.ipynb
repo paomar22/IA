{
 "cells": [
  {
   "cell_type": "code",
   "execution_count": 60,
   "metadata": {},
   "outputs": [],
   "source": [
    "import numpy as np"
   ]
  },
  {
   "cell_type": "code",
   "execution_count": 61,
   "metadata": {},
   "outputs": [],
   "source": [
    "corpus=['la perra pasea','el gato come', 'la perra ladra', 'el raton escapa']"
   ]
  },
  {
   "cell_type": "code",
   "execution_count": 62,
   "metadata": {},
   "outputs": [
    {
     "name": "stdout",
     "output_type": "stream",
     "text": [
      "['la perra pasea', 'el gato come', 'la perra ladra', 'el raton escapa']\n"
     ]
    }
   ],
   "source": [
    "print(corpus)"
   ]
  },
  {
   "cell_type": "code",
   "execution_count": 63,
   "metadata": {},
   "outputs": [
    {
     "name": "stdout",
     "output_type": "stream",
     "text": [
      "la perra pasea\n",
      "el gato come\n",
      "la perra ladra\n",
      "el raton escapa\n"
     ]
    }
   ],
   "source": [
    "doc1=corpus[0]\n",
    "print(doc1)\n",
    "doc2=corpus[1]\n",
    "print(doc2)\n",
    "doc3=corpus[2]\n",
    "print(doc3)\n",
    "doc4=corpus[3]\n",
    "print(doc4)"
   ]
  },
  {
   "cell_type": "code",
   "execution_count": 64,
   "metadata": {},
   "outputs": [],
   "source": [
    "bagOfWords1 = doc1.split(' ')\n",
    "bagOfWords2 = doc2.split(' ')\n",
    "bagOfWords3 = doc3.split(' ')\n",
    "bagOfWords4 = doc4.split(' ')"
   ]
  },
  {
   "cell_type": "code",
   "execution_count": 65,
   "metadata": {},
   "outputs": [
    {
     "name": "stdout",
     "output_type": "stream",
     "text": [
      "['la', 'perra', 'pasea']\n",
      "['el', 'gato', 'come']\n",
      "['la', 'perra', 'ladra']\n",
      "['el', 'raton', 'escapa']\n"
     ]
    }
   ],
   "source": [
    "print(bagOfWords1)\n",
    "print(bagOfWords2)\n",
    "print(bagOfWords3)\n",
    "print(bagOfWords4)"
   ]
  },
  {
   "cell_type": "code",
   "execution_count": 66,
   "metadata": {},
   "outputs": [],
   "source": [
    "uniqueWords = set(bagOfWords1).union(set(bagOfWords2)).union(set(bagOfWords3)).union(set(bagOfWords4))"
   ]
  },
  {
   "cell_type": "code",
   "execution_count": 67,
   "metadata": {},
   "outputs": [
    {
     "name": "stdout",
     "output_type": "stream",
     "text": [
      "{'pasea', 'perra', 'raton', 'gato', 'la', 'come', 'ladra', 'el', 'escapa'}\n"
     ]
    }
   ],
   "source": [
    "print(uniqueWords)"
   ]
  },
  {
   "cell_type": "code",
   "execution_count": 68,
   "metadata": {},
   "outputs": [],
   "source": [
    "#a = np.array(bagOfWords1)\n",
    "#b = np.array(bagOfWords2)\n",
    "#c = np.array(bagOfWords3)\n",
    "#d = np.array(bagOfWords4)\n",
    "\n",
    "#arr=np.concatenate((a, b,c,d), axis=None)\n",
    "#print(arr)\n",
    "#print(np.unique(arr))"
   ]
  },
  {
   "cell_type": "code",
   "execution_count": 69,
   "metadata": {},
   "outputs": [
    {
     "name": "stdout",
     "output_type": "stream",
     "text": [
      "{'pasea': 1, 'perra': 1, 'raton': 0, 'gato': 0, 'la': 1, 'come': 0, 'ladra': 0, 'el': 0, 'escapa': 0}\n",
      "{'pasea': 0, 'perra': 0, 'raton': 0, 'gato': 1, 'la': 0, 'come': 1, 'ladra': 0, 'el': 1, 'escapa': 0}\n",
      "{'pasea': 0, 'perra': 1, 'raton': 0, 'gato': 0, 'la': 1, 'come': 0, 'ladra': 1, 'el': 0, 'escapa': 0}\n",
      "{'pasea': 0, 'perra': 0, 'raton': 1, 'gato': 0, 'la': 0, 'come': 0, 'ladra': 0, 'el': 1, 'escapa': 1}\n"
     ]
    }
   ],
   "source": [
    "numOfWordsA = dict.fromkeys(uniqueWords, 0)\n",
    "numOfWordsB = dict.fromkeys(uniqueWords, 0)\n",
    "numOfWordsC = dict.fromkeys(uniqueWords, 0)\n",
    "numOfWordsD = dict.fromkeys(uniqueWords, 0)\n",
    "\n",
    "for word in bagOfWords1:\n",
    "    numOfWordsA[word] += 1\n",
    "for word in bagOfWords2:\n",
    "    numOfWordsB[word] += 1\n",
    "for word in bagOfWords3:\n",
    "    numOfWordsC[word] += 1\n",
    "for word in bagOfWords4:\n",
    "    numOfWordsD[word] += 1\n",
    "    \n",
    "print(numOfWordsA)\n",
    "print(numOfWordsB)\n",
    "print(numOfWordsC)\n",
    "print(numOfWordsD)"
   ]
  },
  {
   "cell_type": "code",
   "execution_count": 70,
   "metadata": {},
   "outputs": [
    {
     "name": "stdout",
     "output_type": "stream",
     "text": [
      "dict_values([1, 1, 0, 0, 1, 0, 0, 0, 0])\n",
      "dict_values([0, 0, 0, 1, 0, 1, 0, 1, 0])\n",
      "dict_values([0, 1, 0, 0, 1, 0, 1, 0, 0])\n",
      "dict_values([0, 0, 1, 0, 0, 0, 0, 1, 1])\n"
     ]
    }
   ],
   "source": [
    "values1= numOfWordsA.values()\n",
    "values2= numOfWordsB.values()\n",
    "values3= numOfWordsC.values()\n",
    "values4= numOfWordsD.values()\n",
    "print(np.asarray(values1))\n",
    "print(np.asarray(values2))\n",
    "print(np.asarray(values3))\n",
    "print(np.asarray(values4))"
   ]
  },
  {
   "cell_type": "code",
   "execution_count": 71,
   "metadata": {},
   "outputs": [],
   "source": [
    "tf=np.concatenate((values1, values2,values3,values4), axis=None)"
   ]
  },
  {
   "cell_type": "code",
   "execution_count": 72,
   "metadata": {},
   "outputs": [],
   "source": [
    "def computeTF(wordDict, bagOfWords):\n",
    "    tfDict = {}\n",
    "    bagOfWordsCount = len(bagOfWords)\n",
    "    for word, count in wordDict.items():\n",
    "        tfDict[word] = count / float(bagOfWordsCount)\n",
    "    return tfDict"
   ]
  },
  {
   "cell_type": "code",
   "execution_count": 73,
   "metadata": {},
   "outputs": [],
   "source": [
    "tfA = computeTF(numOfWordsA, bagOfWords1)\n",
    "tfB = computeTF(numOfWordsB, bagOfWords2)\n",
    "tfC = computeTF(numOfWordsC, bagOfWords3)\n",
    "tfD = computeTF(numOfWordsD, bagOfWords4)"
   ]
  },
  {
   "cell_type": "code",
   "execution_count": 74,
   "metadata": {},
   "outputs": [
    {
     "name": "stdout",
     "output_type": "stream",
     "text": [
      "{'pasea': 0.3333333333333333, 'perra': 0.3333333333333333, 'raton': 0.0, 'gato': 0.0, 'la': 0.3333333333333333, 'come': 0.0, 'ladra': 0.0, 'el': 0.0, 'escapa': 0.0}\n",
      "{'pasea': 0.0, 'perra': 0.0, 'raton': 0.0, 'gato': 0.3333333333333333, 'la': 0.0, 'come': 0.3333333333333333, 'ladra': 0.0, 'el': 0.3333333333333333, 'escapa': 0.0}\n",
      "{'pasea': 0.0, 'perra': 0.3333333333333333, 'raton': 0.0, 'gato': 0.0, 'la': 0.3333333333333333, 'come': 0.0, 'ladra': 0.3333333333333333, 'el': 0.0, 'escapa': 0.0}\n",
      "{'pasea': 0.0, 'perra': 0.0, 'raton': 0.3333333333333333, 'gato': 0.0, 'la': 0.0, 'come': 0.0, 'ladra': 0.0, 'el': 0.3333333333333333, 'escapa': 0.3333333333333333}\n"
     ]
    }
   ],
   "source": [
    "print(tfA)\n",
    "print(tfB)\n",
    "print(tfC)\n",
    "print(tfD)"
   ]
  },
  {
   "cell_type": "code",
   "execution_count": 75,
   "metadata": {},
   "outputs": [],
   "source": [
    "def computeIDF(corpus):\n",
    "    import math\n",
    "    N = len(corpus)\n",
    "    \n",
    "    idfDict = dict.fromkeys(corpus[0].keys(), 0)\n",
    "    for document in corpus:\n",
    "        for word, val in document.items():\n",
    "            if val > 0:\n",
    "                idfDict[word] += 1\n",
    "    \n",
    "    for word, val in idfDict.items():\n",
    "        idfDict[word] = math.log(N / float(val))\n",
    "    return idfDict"
   ]
  },
  {
   "cell_type": "code",
   "execution_count": 76,
   "metadata": {},
   "outputs": [],
   "source": [
    "idf= computeIDF([numOfWordsA, numOfWordsB,numOfWordsC,numOfWordsD])"
   ]
  },
  {
   "cell_type": "code",
   "execution_count": 77,
   "metadata": {},
   "outputs": [
    {
     "name": "stdout",
     "output_type": "stream",
     "text": [
      "{'pasea': 1.3862943611198906, 'perra': 0.6931471805599453, 'raton': 1.3862943611198906, 'gato': 1.3862943611198906, 'la': 0.6931471805599453, 'come': 1.3862943611198906, 'ladra': 1.3862943611198906, 'el': 0.6931471805599453, 'escapa': 1.3862943611198906}\n"
     ]
    }
   ],
   "source": [
    "print(idf)"
   ]
  },
  {
   "cell_type": "code",
   "execution_count": 78,
   "metadata": {},
   "outputs": [],
   "source": [
    "def computeTFIDF(tfBagOfWords, idfs):\n",
    "    tfidf = {}\n",
    "    for word, val in tfBagOfWords.items():\n",
    "        tfidf[word] = val * idfs[word]\n",
    "    return tfidf"
   ]
  },
  {
   "cell_type": "code",
   "execution_count": 79,
   "metadata": {},
   "outputs": [],
   "source": [
    "tfidfA = computeTFIDF(numOfWordsA, idf)\n",
    "tfidfB = computeTFIDF(numOfWordsB, idf)\n",
    "tfidfC = computeTFIDF(numOfWordsC, idf)\n",
    "tfidfD = computeTFIDF(numOfWordsD, idf)\n"
   ]
  },
  {
   "cell_type": "code",
   "execution_count": 80,
   "metadata": {},
   "outputs": [],
   "source": [
    "import pandas as pd\n",
    "df = pd.DataFrame([tfidfA, tfidfB,tfidfC,tfidfD])"
   ]
  },
  {
   "cell_type": "code",
   "execution_count": 81,
   "metadata": {},
   "outputs": [
    {
     "name": "stdout",
     "output_type": "stream",
     "text": [
      "      pasea     perra     raton      gato        la      come     ladra  \\\n",
      "0  1.386294  0.693147  0.000000  0.000000  0.693147  0.000000  0.000000   \n",
      "1  0.000000  0.000000  0.000000  1.386294  0.000000  1.386294  0.000000   \n",
      "2  0.000000  0.693147  0.000000  0.000000  0.693147  0.000000  1.386294   \n",
      "3  0.000000  0.000000  1.386294  0.000000  0.000000  0.000000  0.000000   \n",
      "\n",
      "         el    escapa  \n",
      "0  0.000000  0.000000  \n",
      "1  0.693147  0.000000  \n",
      "2  0.000000  0.000000  \n",
      "3  0.693147  1.386294  \n"
     ]
    }
   ],
   "source": [
    "print(df)"
   ]
  },
  {
   "cell_type": "code",
   "execution_count": 82,
   "metadata": {},
   "outputs": [
    {
     "name": "stdout",
     "output_type": "stream",
     "text": [
      "[[1.         0.         0.33333333 0.        ]\n",
      " [0.         1.         0.         0.11111111]\n",
      " [0.33333333 0.         1.         0.        ]\n",
      " [0.         0.11111111 0.         1.        ]]\n"
     ]
    }
   ],
   "source": [
    "from sklearn.metrics.pairwise import cosine_similarity\n",
    "print(cosine_similarity(df, df))"
   ]
  },
  {
   "cell_type": "code",
   "execution_count": 83,
   "metadata": {},
   "outputs": [
    {
     "name": "stdout",
     "output_type": "stream",
     "text": [
      "Cosine Similarity between A and B:0.0\n",
      "Cosine Similarity between A and C:0.33333333333333337\n",
      "Cosine Similarity between A and D:0.0\n",
      "The most similar document to A is document:C\n"
     ]
    }
   ],
   "source": [
    "A=df.loc[[0]].to_numpy().reshape(-1,)\n",
    "B=df.loc[[1]].to_numpy().reshape(-1,)\n",
    "C=df.loc[[2]].to_numpy().reshape(-1,)\n",
    "D=df.loc[[3]].to_numpy().reshape(-1,)\n",
    "\n",
    "\n",
    "# cosine similarity between A and B\n",
    "cos_sim1=np.dot(A,B)/(np.linalg.norm(A)*np.linalg.norm(B))\n",
    "cos_sim2=np.dot(A,C)/(np.linalg.norm(A)*np.linalg.norm(C))\n",
    "cos_sim3=np.dot(A,D)/(np.linalg.norm(A)*np.linalg.norm(D))\n",
    "\n",
    "similarity_order=list([cos_sim1,cos_sim2,cos_sim3])\n",
    "order=sorted(similarity_order, reverse=True)\n",
    "\n",
    "print (f\"Cosine Similarity between A and B:{cos_sim1}\")\n",
    "#print (f\"Cosine Distance between A and B:{1-cos_sim1}\")\n",
    "\n",
    "print (f\"Cosine Similarity between A and C:{cos_sim2}\")\n",
    "#print (f\"Cosine Distance between A and C:{1-cos_sim2}\")\n",
    "\n",
    "print (f\"Cosine Similarity between A and D:{cos_sim3}\")\n",
    "#print (f\"Cosine Distance between A and D:{1-cos_sim3}\")\n",
    "\n",
    "diccionario={'B':cos_sim1,'C':cos_sim2,'D':cos_sim3}\n",
    "keys = list(diccionario.keys())\n",
    "vals = list(diccionario.values())\n",
    "\n",
    "\n",
    "print (f\"The most similar document to A is document:{keys[vals.index(order[0])]}\")"
   ]
  }
 ],
 "metadata": {
  "kernelspec": {
   "display_name": "Python 3",
   "language": "python",
   "name": "python3"
  },
  "language_info": {
   "codemirror_mode": {
    "name": "ipython",
    "version": 3
   },
   "file_extension": ".py",
   "mimetype": "text/x-python",
   "name": "python",
   "nbconvert_exporter": "python",
   "pygments_lexer": "ipython3",
   "version": "3.7.7"
  }
 },
 "nbformat": 4,
 "nbformat_minor": 4
}
