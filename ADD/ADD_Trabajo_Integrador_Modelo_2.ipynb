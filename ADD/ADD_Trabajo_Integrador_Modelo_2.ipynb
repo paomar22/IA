{
  "nbformat": 4,
  "nbformat_minor": 0,
  "metadata": {
    "colab": {
      "name": "ADD- Trabajo Integrador- Modelo 2.ipynb",
      "provenance": [],
      "collapsed_sections": [],
      "toc_visible": true
    },
    "kernelspec": {
      "name": "python3",
      "display_name": "Python 3"
    },
    "accelerator": "GPU"
  },
  "cells": [
    {
      "cell_type": "code",
      "metadata": {
        "colab": {
          "base_uri": "https://localhost:8080/"
        },
        "id": "77qgocsD--W6",
        "outputId": "97dbb51e-790f-459b-d082-ba4167b9f570"
      },
      "source": [
        "from google.colab import drive\n",
        "drive.mount('/content/drive')"
      ],
      "execution_count": 1,
      "outputs": [
        {
          "output_type": "stream",
          "text": [
            "Mounted at /content/drive\n"
          ],
          "name": "stdout"
        }
      ]
    },
    {
      "cell_type": "code",
      "metadata": {
        "id": "W9oL139lUwO1",
        "colab": {
          "base_uri": "https://localhost:8080/"
        },
        "outputId": "f11c1c74-0c6f-46bf-ffd8-cbe7d9ed8f59"
      },
      "source": [
        "!pip install funpymodeling\n",
        "!pip install tensorflow\n",
        "\n",
        "import pandas as pd\n",
        "import numpy as np\n",
        "from scipy import stats\n",
        "import matplotlib.pyplot as plt\n",
        "\n",
        "import seaborn as sns\n",
        "sns.set(style=\"ticks\", color_codes=True, font_scale=1.5)\n",
        "\n",
        "from sklearn import preprocessing\n",
        "from sklearn.linear_model import LogisticRegression\n",
        "from sklearn import metrics\n",
        "from sklearn.ensemble import RandomForestClassifier\n",
        "from sklearn.metrics import roc_curve\n",
        "from sklearn.metrics import auc\n",
        "\n",
        "import tensorflow as tf\n",
        "from tensorflow import keras\n",
        "\n",
        "from keras.models import Sequential\n",
        "from keras.layers import Dense\n",
        "from keras.layers import Dropout\n",
        "from keras.utils.vis_utils import plot_model\n",
        "from funpymodeling.exploratory import status, freq_tbl, profiling_num\n",
        "\n",
        "dataset = pd.read_csv('/content/drive/MyDrive/ADD2021/weatherAUS.csv')"
      ],
      "execution_count": 2,
      "outputs": [
        {
          "output_type": "stream",
          "text": [
            "Collecting funpymodeling\n",
            "  Downloading https://files.pythonhosted.org/packages/2c/ab/849bdc74b3323ef11a4c4af86be8c1ddc4ebc118cff4b8b2036fce8f0c77/funpymodeling-0.1.7-py3-none-any.whl\n",
            "Requirement already satisfied: sklearn<0.1,>=0.0 in /usr/local/lib/python3.7/dist-packages (from funpymodeling) (0.0)\n",
            "Requirement already satisfied: typing-extensions<4.0.0,>=3.7.4; python_version < \"3.8\" in /usr/local/lib/python3.7/dist-packages (from funpymodeling) (3.7.4.3)\n",
            "Requirement already satisfied: numpy<2.0.0,>=1.18.5 in /usr/local/lib/python3.7/dist-packages (from funpymodeling) (1.19.5)\n",
            "Requirement already satisfied: matplotlib<4.0.0,>=3.2.2 in /usr/local/lib/python3.7/dist-packages (from funpymodeling) (3.2.2)\n",
            "Collecting seaborn<0.11.0,>=0.10.1\n",
            "\u001b[?25l  Downloading https://files.pythonhosted.org/packages/c7/e6/54aaaafd0b87f51dfba92ba73da94151aa3bc179e5fe88fc5dfb3038e860/seaborn-0.10.1-py3-none-any.whl (215kB)\n",
            "\r\u001b[K     |█▌                              | 10kB 17.0MB/s eta 0:00:01\r\u001b[K     |███                             | 20kB 23.3MB/s eta 0:00:01\r\u001b[K     |████▋                           | 30kB 28.4MB/s eta 0:00:01\r\u001b[K     |██████                          | 40kB 31.7MB/s eta 0:00:01\r\u001b[K     |███████▋                        | 51kB 32.0MB/s eta 0:00:01\r\u001b[K     |█████████▏                      | 61kB 34.6MB/s eta 0:00:01\r\u001b[K     |██████████▋                     | 71kB 36.2MB/s eta 0:00:01\r\u001b[K     |████████████▏                   | 81kB 34.1MB/s eta 0:00:01\r\u001b[K     |█████████████▊                  | 92kB 33.8MB/s eta 0:00:01\r\u001b[K     |███████████████▏                | 102kB 35.2MB/s eta 0:00:01\r\u001b[K     |████████████████▊               | 112kB 35.2MB/s eta 0:00:01\r\u001b[K     |██████████████████▎             | 122kB 35.2MB/s eta 0:00:01\r\u001b[K     |███████████████████▊            | 133kB 35.2MB/s eta 0:00:01\r\u001b[K     |█████████████████████▎          | 143kB 35.2MB/s eta 0:00:01\r\u001b[K     |██████████████████████▉         | 153kB 35.2MB/s eta 0:00:01\r\u001b[K     |████████████████████████▎       | 163kB 35.2MB/s eta 0:00:01\r\u001b[K     |█████████████████████████▉      | 174kB 35.2MB/s eta 0:00:01\r\u001b[K     |███████████████████████████▍    | 184kB 35.2MB/s eta 0:00:01\r\u001b[K     |█████████████████████████████   | 194kB 35.2MB/s eta 0:00:01\r\u001b[K     |██████████████████████████████▍ | 204kB 35.2MB/s eta 0:00:01\r\u001b[K     |████████████████████████████████| 215kB 35.2MB/s eta 0:00:01\r\u001b[K     |████████████████████████████████| 225kB 35.2MB/s \n",
            "\u001b[?25hRequirement already satisfied: pandas<2.0.0,>=1.0.5 in /usr/local/lib/python3.7/dist-packages (from funpymodeling) (1.1.5)\n",
            "Requirement already satisfied: scikit-learn in /usr/local/lib/python3.7/dist-packages (from sklearn<0.1,>=0.0->funpymodeling) (0.22.2.post1)\n",
            "Requirement already satisfied: kiwisolver>=1.0.1 in /usr/local/lib/python3.7/dist-packages (from matplotlib<4.0.0,>=3.2.2->funpymodeling) (1.3.1)\n",
            "Requirement already satisfied: python-dateutil>=2.1 in /usr/local/lib/python3.7/dist-packages (from matplotlib<4.0.0,>=3.2.2->funpymodeling) (2.8.1)\n",
            "Requirement already satisfied: cycler>=0.10 in /usr/local/lib/python3.7/dist-packages (from matplotlib<4.0.0,>=3.2.2->funpymodeling) (0.10.0)\n",
            "Requirement already satisfied: pyparsing!=2.0.4,!=2.1.2,!=2.1.6,>=2.0.1 in /usr/local/lib/python3.7/dist-packages (from matplotlib<4.0.0,>=3.2.2->funpymodeling) (2.4.7)\n",
            "Requirement already satisfied: scipy>=1.0.1 in /usr/local/lib/python3.7/dist-packages (from seaborn<0.11.0,>=0.10.1->funpymodeling) (1.4.1)\n",
            "Requirement already satisfied: pytz>=2017.2 in /usr/local/lib/python3.7/dist-packages (from pandas<2.0.0,>=1.0.5->funpymodeling) (2018.9)\n",
            "Requirement already satisfied: joblib>=0.11 in /usr/local/lib/python3.7/dist-packages (from scikit-learn->sklearn<0.1,>=0.0->funpymodeling) (1.0.1)\n",
            "Requirement already satisfied: six>=1.5 in /usr/local/lib/python3.7/dist-packages (from python-dateutil>=2.1->matplotlib<4.0.0,>=3.2.2->funpymodeling) (1.15.0)\n",
            "Installing collected packages: seaborn, funpymodeling\n",
            "  Found existing installation: seaborn 0.11.1\n",
            "    Uninstalling seaborn-0.11.1:\n",
            "      Successfully uninstalled seaborn-0.11.1\n",
            "Successfully installed funpymodeling-0.1.7 seaborn-0.10.1\n",
            "Requirement already satisfied: tensorflow in /usr/local/lib/python3.7/dist-packages (2.5.0)\n",
            "Requirement already satisfied: absl-py~=0.10 in /usr/local/lib/python3.7/dist-packages (from tensorflow) (0.12.0)\n",
            "Requirement already satisfied: tensorboard~=2.5 in /usr/local/lib/python3.7/dist-packages (from tensorflow) (2.5.0)\n",
            "Requirement already satisfied: typing-extensions~=3.7.4 in /usr/local/lib/python3.7/dist-packages (from tensorflow) (3.7.4.3)\n",
            "Requirement already satisfied: keras-nightly~=2.5.0.dev in /usr/local/lib/python3.7/dist-packages (from tensorflow) (2.5.0.dev2021032900)\n",
            "Requirement already satisfied: h5py~=3.1.0 in /usr/local/lib/python3.7/dist-packages (from tensorflow) (3.1.0)\n",
            "Requirement already satisfied: opt-einsum~=3.3.0 in /usr/local/lib/python3.7/dist-packages (from tensorflow) (3.3.0)\n",
            "Requirement already satisfied: six~=1.15.0 in /usr/local/lib/python3.7/dist-packages (from tensorflow) (1.15.0)\n",
            "Requirement already satisfied: astunparse~=1.6.3 in /usr/local/lib/python3.7/dist-packages (from tensorflow) (1.6.3)\n",
            "Requirement already satisfied: wheel~=0.35 in /usr/local/lib/python3.7/dist-packages (from tensorflow) (0.36.2)\n",
            "Requirement already satisfied: wrapt~=1.12.1 in /usr/local/lib/python3.7/dist-packages (from tensorflow) (1.12.1)\n",
            "Requirement already satisfied: flatbuffers~=1.12.0 in /usr/local/lib/python3.7/dist-packages (from tensorflow) (1.12)\n",
            "Requirement already satisfied: google-pasta~=0.2 in /usr/local/lib/python3.7/dist-packages (from tensorflow) (0.2.0)\n",
            "Requirement already satisfied: gast==0.4.0 in /usr/local/lib/python3.7/dist-packages (from tensorflow) (0.4.0)\n",
            "Requirement already satisfied: tensorflow-estimator<2.6.0,>=2.5.0rc0 in /usr/local/lib/python3.7/dist-packages (from tensorflow) (2.5.0)\n",
            "Requirement already satisfied: termcolor~=1.1.0 in /usr/local/lib/python3.7/dist-packages (from tensorflow) (1.1.0)\n",
            "Requirement already satisfied: grpcio~=1.34.0 in /usr/local/lib/python3.7/dist-packages (from tensorflow) (1.34.1)\n",
            "Requirement already satisfied: keras-preprocessing~=1.1.2 in /usr/local/lib/python3.7/dist-packages (from tensorflow) (1.1.2)\n",
            "Requirement already satisfied: protobuf>=3.9.2 in /usr/local/lib/python3.7/dist-packages (from tensorflow) (3.12.4)\n",
            "Requirement already satisfied: numpy~=1.19.2 in /usr/local/lib/python3.7/dist-packages (from tensorflow) (1.19.5)\n",
            "Requirement already satisfied: google-auth-oauthlib<0.5,>=0.4.1 in /usr/local/lib/python3.7/dist-packages (from tensorboard~=2.5->tensorflow) (0.4.4)\n",
            "Requirement already satisfied: tensorboard-plugin-wit>=1.6.0 in /usr/local/lib/python3.7/dist-packages (from tensorboard~=2.5->tensorflow) (1.8.0)\n",
            "Requirement already satisfied: markdown>=2.6.8 in /usr/local/lib/python3.7/dist-packages (from tensorboard~=2.5->tensorflow) (3.3.4)\n",
            "Requirement already satisfied: tensorboard-data-server<0.7.0,>=0.6.0 in /usr/local/lib/python3.7/dist-packages (from tensorboard~=2.5->tensorflow) (0.6.1)\n",
            "Requirement already satisfied: setuptools>=41.0.0 in /usr/local/lib/python3.7/dist-packages (from tensorboard~=2.5->tensorflow) (57.0.0)\n",
            "Requirement already satisfied: requests<3,>=2.21.0 in /usr/local/lib/python3.7/dist-packages (from tensorboard~=2.5->tensorflow) (2.23.0)\n",
            "Requirement already satisfied: google-auth<2,>=1.6.3 in /usr/local/lib/python3.7/dist-packages (from tensorboard~=2.5->tensorflow) (1.31.0)\n",
            "Requirement already satisfied: werkzeug>=0.11.15 in /usr/local/lib/python3.7/dist-packages (from tensorboard~=2.5->tensorflow) (1.0.1)\n",
            "Requirement already satisfied: cached-property; python_version < \"3.8\" in /usr/local/lib/python3.7/dist-packages (from h5py~=3.1.0->tensorflow) (1.5.2)\n",
            "Requirement already satisfied: requests-oauthlib>=0.7.0 in /usr/local/lib/python3.7/dist-packages (from google-auth-oauthlib<0.5,>=0.4.1->tensorboard~=2.5->tensorflow) (1.3.0)\n",
            "Requirement already satisfied: importlib-metadata; python_version < \"3.8\" in /usr/local/lib/python3.7/dist-packages (from markdown>=2.6.8->tensorboard~=2.5->tensorflow) (4.5.0)\n",
            "Requirement already satisfied: idna<3,>=2.5 in /usr/local/lib/python3.7/dist-packages (from requests<3,>=2.21.0->tensorboard~=2.5->tensorflow) (2.10)\n",
            "Requirement already satisfied: chardet<4,>=3.0.2 in /usr/local/lib/python3.7/dist-packages (from requests<3,>=2.21.0->tensorboard~=2.5->tensorflow) (3.0.4)\n",
            "Requirement already satisfied: urllib3!=1.25.0,!=1.25.1,<1.26,>=1.21.1 in /usr/local/lib/python3.7/dist-packages (from requests<3,>=2.21.0->tensorboard~=2.5->tensorflow) (1.24.3)\n",
            "Requirement already satisfied: certifi>=2017.4.17 in /usr/local/lib/python3.7/dist-packages (from requests<3,>=2.21.0->tensorboard~=2.5->tensorflow) (2021.5.30)\n",
            "Requirement already satisfied: rsa<5,>=3.1.4; python_version >= \"3.6\" in /usr/local/lib/python3.7/dist-packages (from google-auth<2,>=1.6.3->tensorboard~=2.5->tensorflow) (4.7.2)\n",
            "Requirement already satisfied: cachetools<5.0,>=2.0.0 in /usr/local/lib/python3.7/dist-packages (from google-auth<2,>=1.6.3->tensorboard~=2.5->tensorflow) (4.2.2)\n",
            "Requirement already satisfied: pyasn1-modules>=0.2.1 in /usr/local/lib/python3.7/dist-packages (from google-auth<2,>=1.6.3->tensorboard~=2.5->tensorflow) (0.2.8)\n",
            "Requirement already satisfied: oauthlib>=3.0.0 in /usr/local/lib/python3.7/dist-packages (from requests-oauthlib>=0.7.0->google-auth-oauthlib<0.5,>=0.4.1->tensorboard~=2.5->tensorflow) (3.1.1)\n",
            "Requirement already satisfied: zipp>=0.5 in /usr/local/lib/python3.7/dist-packages (from importlib-metadata; python_version < \"3.8\"->markdown>=2.6.8->tensorboard~=2.5->tensorflow) (3.4.1)\n",
            "Requirement already satisfied: pyasn1>=0.1.3 in /usr/local/lib/python3.7/dist-packages (from rsa<5,>=3.1.4; python_version >= \"3.6\"->google-auth<2,>=1.6.3->tensorboard~=2.5->tensorflow) (0.4.8)\n"
          ],
          "name": "stdout"
        },
        {
          "output_type": "stream",
          "text": [
            "/usr/local/lib/python3.7/dist-packages/statsmodels/tools/_testing.py:19: FutureWarning: pandas.util.testing is deprecated. Use the functions in the public API at pandas.testing instead.\n",
            "  import pandas.util.testing as tm\n"
          ],
          "name": "stderr"
        }
      ]
    },
    {
      "cell_type": "markdown",
      "metadata": {
        "id": "KEzE-dV8WYNZ"
      },
      "source": [
        "# Analisis básico de datos"
      ]
    },
    {
      "cell_type": "markdown",
      "metadata": {
        "id": "ELicTq8LhnKM"
      },
      "source": [
        "**1) Visualizar las primeras filas.**"
      ]
    },
    {
      "cell_type": "code",
      "metadata": {
        "id": "1DuqbmM8qe_h",
        "colab": {
          "base_uri": "https://localhost:8080/",
          "height": 292
        },
        "outputId": "1c57eb47-a444-467e-d61c-edebdbced4da"
      },
      "source": [
        "#visualizo las primeras filas del dataset\n",
        "dataset.head()"
      ],
      "execution_count": 3,
      "outputs": [
        {
          "output_type": "execute_result",
          "data": {
            "text/html": [
              "<div>\n",
              "<style scoped>\n",
              "    .dataframe tbody tr th:only-of-type {\n",
              "        vertical-align: middle;\n",
              "    }\n",
              "\n",
              "    .dataframe tbody tr th {\n",
              "        vertical-align: top;\n",
              "    }\n",
              "\n",
              "    .dataframe thead th {\n",
              "        text-align: right;\n",
              "    }\n",
              "</style>\n",
              "<table border=\"1\" class=\"dataframe\">\n",
              "  <thead>\n",
              "    <tr style=\"text-align: right;\">\n",
              "      <th></th>\n",
              "      <th>Date</th>\n",
              "      <th>Location</th>\n",
              "      <th>MinTemp</th>\n",
              "      <th>MaxTemp</th>\n",
              "      <th>Rainfall</th>\n",
              "      <th>Evaporation</th>\n",
              "      <th>Sunshine</th>\n",
              "      <th>WindGustDir</th>\n",
              "      <th>WindGustSpeed</th>\n",
              "      <th>WindDir9am</th>\n",
              "      <th>WindDir3pm</th>\n",
              "      <th>WindSpeed9am</th>\n",
              "      <th>WindSpeed3pm</th>\n",
              "      <th>Humidity9am</th>\n",
              "      <th>Humidity3pm</th>\n",
              "      <th>Pressure9am</th>\n",
              "      <th>Pressure3pm</th>\n",
              "      <th>Cloud9am</th>\n",
              "      <th>Cloud3pm</th>\n",
              "      <th>Temp9am</th>\n",
              "      <th>Temp3pm</th>\n",
              "      <th>RainToday</th>\n",
              "      <th>RainTomorrow</th>\n",
              "    </tr>\n",
              "  </thead>\n",
              "  <tbody>\n",
              "    <tr>\n",
              "      <th>0</th>\n",
              "      <td>2008-12-01</td>\n",
              "      <td>Albury</td>\n",
              "      <td>13.4</td>\n",
              "      <td>22.9</td>\n",
              "      <td>0.6</td>\n",
              "      <td>NaN</td>\n",
              "      <td>NaN</td>\n",
              "      <td>W</td>\n",
              "      <td>44.0</td>\n",
              "      <td>W</td>\n",
              "      <td>WNW</td>\n",
              "      <td>20.0</td>\n",
              "      <td>24.0</td>\n",
              "      <td>71.0</td>\n",
              "      <td>22.0</td>\n",
              "      <td>1007.7</td>\n",
              "      <td>1007.1</td>\n",
              "      <td>8.0</td>\n",
              "      <td>NaN</td>\n",
              "      <td>16.9</td>\n",
              "      <td>21.8</td>\n",
              "      <td>No</td>\n",
              "      <td>No</td>\n",
              "    </tr>\n",
              "    <tr>\n",
              "      <th>1</th>\n",
              "      <td>2008-12-02</td>\n",
              "      <td>Albury</td>\n",
              "      <td>7.4</td>\n",
              "      <td>25.1</td>\n",
              "      <td>0.0</td>\n",
              "      <td>NaN</td>\n",
              "      <td>NaN</td>\n",
              "      <td>WNW</td>\n",
              "      <td>44.0</td>\n",
              "      <td>NNW</td>\n",
              "      <td>WSW</td>\n",
              "      <td>4.0</td>\n",
              "      <td>22.0</td>\n",
              "      <td>44.0</td>\n",
              "      <td>25.0</td>\n",
              "      <td>1010.6</td>\n",
              "      <td>1007.8</td>\n",
              "      <td>NaN</td>\n",
              "      <td>NaN</td>\n",
              "      <td>17.2</td>\n",
              "      <td>24.3</td>\n",
              "      <td>No</td>\n",
              "      <td>No</td>\n",
              "    </tr>\n",
              "    <tr>\n",
              "      <th>2</th>\n",
              "      <td>2008-12-03</td>\n",
              "      <td>Albury</td>\n",
              "      <td>12.9</td>\n",
              "      <td>25.7</td>\n",
              "      <td>0.0</td>\n",
              "      <td>NaN</td>\n",
              "      <td>NaN</td>\n",
              "      <td>WSW</td>\n",
              "      <td>46.0</td>\n",
              "      <td>W</td>\n",
              "      <td>WSW</td>\n",
              "      <td>19.0</td>\n",
              "      <td>26.0</td>\n",
              "      <td>38.0</td>\n",
              "      <td>30.0</td>\n",
              "      <td>1007.6</td>\n",
              "      <td>1008.7</td>\n",
              "      <td>NaN</td>\n",
              "      <td>2.0</td>\n",
              "      <td>21.0</td>\n",
              "      <td>23.2</td>\n",
              "      <td>No</td>\n",
              "      <td>No</td>\n",
              "    </tr>\n",
              "    <tr>\n",
              "      <th>3</th>\n",
              "      <td>2008-12-04</td>\n",
              "      <td>Albury</td>\n",
              "      <td>9.2</td>\n",
              "      <td>28.0</td>\n",
              "      <td>0.0</td>\n",
              "      <td>NaN</td>\n",
              "      <td>NaN</td>\n",
              "      <td>NE</td>\n",
              "      <td>24.0</td>\n",
              "      <td>SE</td>\n",
              "      <td>E</td>\n",
              "      <td>11.0</td>\n",
              "      <td>9.0</td>\n",
              "      <td>45.0</td>\n",
              "      <td>16.0</td>\n",
              "      <td>1017.6</td>\n",
              "      <td>1012.8</td>\n",
              "      <td>NaN</td>\n",
              "      <td>NaN</td>\n",
              "      <td>18.1</td>\n",
              "      <td>26.5</td>\n",
              "      <td>No</td>\n",
              "      <td>No</td>\n",
              "    </tr>\n",
              "    <tr>\n",
              "      <th>4</th>\n",
              "      <td>2008-12-05</td>\n",
              "      <td>Albury</td>\n",
              "      <td>17.5</td>\n",
              "      <td>32.3</td>\n",
              "      <td>1.0</td>\n",
              "      <td>NaN</td>\n",
              "      <td>NaN</td>\n",
              "      <td>W</td>\n",
              "      <td>41.0</td>\n",
              "      <td>ENE</td>\n",
              "      <td>NW</td>\n",
              "      <td>7.0</td>\n",
              "      <td>20.0</td>\n",
              "      <td>82.0</td>\n",
              "      <td>33.0</td>\n",
              "      <td>1010.8</td>\n",
              "      <td>1006.0</td>\n",
              "      <td>7.0</td>\n",
              "      <td>8.0</td>\n",
              "      <td>17.8</td>\n",
              "      <td>29.7</td>\n",
              "      <td>No</td>\n",
              "      <td>No</td>\n",
              "    </tr>\n",
              "  </tbody>\n",
              "</table>\n",
              "</div>"
            ],
            "text/plain": [
              "         Date Location  MinTemp  ...  Temp3pm  RainToday  RainTomorrow\n",
              "0  2008-12-01   Albury     13.4  ...     21.8         No            No\n",
              "1  2008-12-02   Albury      7.4  ...     24.3         No            No\n",
              "2  2008-12-03   Albury     12.9  ...     23.2         No            No\n",
              "3  2008-12-04   Albury      9.2  ...     26.5         No            No\n",
              "4  2008-12-05   Albury     17.5  ...     29.7         No            No\n",
              "\n",
              "[5 rows x 23 columns]"
            ]
          },
          "metadata": {
            "tags": []
          },
          "execution_count": 3
        }
      ]
    },
    {
      "cell_type": "code",
      "metadata": {
        "colab": {
          "base_uri": "https://localhost:8080/"
        },
        "id": "s2c7aeP1fnD-",
        "outputId": "b80c9154-5ac2-480f-8afe-87a8df08ed98"
      },
      "source": [
        "dataset.shape"
      ],
      "execution_count": 4,
      "outputs": [
        {
          "output_type": "execute_result",
          "data": {
            "text/plain": [
              "(145460, 23)"
            ]
          },
          "metadata": {
            "tags": []
          },
          "execution_count": 4
        }
      ]
    },
    {
      "cell_type": "markdown",
      "metadata": {
        "id": "e4uUgcjjiI7P"
      },
      "source": [
        "**2) Identificar los tipos de datos: categórico, ordinal, etc. Responder para cada variable su tipo y si es informativa para un problema de clasificación (por ejemplo si se trata de un código, como una matrícula, o un nombre propio).**"
      ]
    },
    {
      "cell_type": "code",
      "metadata": {
        "id": "tfGjSx8ZqpAZ",
        "colab": {
          "base_uri": "https://localhost:8080/"
        },
        "outputId": "b0335380-ee63-4b79-fc23-29aa4a28c864"
      },
      "source": [
        "#identifico el tipo de datos de cada columna y la cantidad de registros sin nulls\n",
        "dataset.info()"
      ],
      "execution_count": 5,
      "outputs": [
        {
          "output_type": "stream",
          "text": [
            "<class 'pandas.core.frame.DataFrame'>\n",
            "RangeIndex: 145460 entries, 0 to 145459\n",
            "Data columns (total 23 columns):\n",
            " #   Column         Non-Null Count   Dtype  \n",
            "---  ------         --------------   -----  \n",
            " 0   Date           145460 non-null  object \n",
            " 1   Location       145460 non-null  object \n",
            " 2   MinTemp        143975 non-null  float64\n",
            " 3   MaxTemp        144199 non-null  float64\n",
            " 4   Rainfall       142199 non-null  float64\n",
            " 5   Evaporation    82670 non-null   float64\n",
            " 6   Sunshine       75625 non-null   float64\n",
            " 7   WindGustDir    135134 non-null  object \n",
            " 8   WindGustSpeed  135197 non-null  float64\n",
            " 9   WindDir9am     134894 non-null  object \n",
            " 10  WindDir3pm     141232 non-null  object \n",
            " 11  WindSpeed9am   143693 non-null  float64\n",
            " 12  WindSpeed3pm   142398 non-null  float64\n",
            " 13  Humidity9am    142806 non-null  float64\n",
            " 14  Humidity3pm    140953 non-null  float64\n",
            " 15  Pressure9am    130395 non-null  float64\n",
            " 16  Pressure3pm    130432 non-null  float64\n",
            " 17  Cloud9am       89572 non-null   float64\n",
            " 18  Cloud3pm       86102 non-null   float64\n",
            " 19  Temp9am        143693 non-null  float64\n",
            " 20  Temp3pm        141851 non-null  float64\n",
            " 21  RainToday      142199 non-null  object \n",
            " 22  RainTomorrow   142193 non-null  object \n",
            "dtypes: float64(16), object(7)\n",
            "memory usage: 25.5+ MB\n"
          ],
          "name": "stdout"
        }
      ]
    },
    {
      "cell_type": "code",
      "metadata": {
        "colab": {
          "base_uri": "https://localhost:8080/",
          "height": 708
        },
        "id": "d5XSwwXo4KSU",
        "outputId": "c5fa5ce5-b20b-478e-deae-16c7a37030e5"
      },
      "source": [
        "#veo la cantidad de nans de cada columna, porcentaje de nans, cantidad de valores 0 que hay, y los valores unicos \n",
        "status (dataset)\n"
      ],
      "execution_count": 6,
      "outputs": [
        {
          "output_type": "execute_result",
          "data": {
            "text/html": [
              "<div>\n",
              "<style scoped>\n",
              "    .dataframe tbody tr th:only-of-type {\n",
              "        vertical-align: middle;\n",
              "    }\n",
              "\n",
              "    .dataframe tbody tr th {\n",
              "        vertical-align: top;\n",
              "    }\n",
              "\n",
              "    .dataframe thead th {\n",
              "        text-align: right;\n",
              "    }\n",
              "</style>\n",
              "<table border=\"1\" class=\"dataframe\">\n",
              "  <thead>\n",
              "    <tr style=\"text-align: right;\">\n",
              "      <th></th>\n",
              "      <th>variable</th>\n",
              "      <th>q_nan</th>\n",
              "      <th>p_nan</th>\n",
              "      <th>q_zeros</th>\n",
              "      <th>p_zeros</th>\n",
              "      <th>unique</th>\n",
              "      <th>type</th>\n",
              "    </tr>\n",
              "  </thead>\n",
              "  <tbody>\n",
              "    <tr>\n",
              "      <th>0</th>\n",
              "      <td>Date</td>\n",
              "      <td>0</td>\n",
              "      <td>0.000000</td>\n",
              "      <td>0</td>\n",
              "      <td>0.000000</td>\n",
              "      <td>3436</td>\n",
              "      <td>object</td>\n",
              "    </tr>\n",
              "    <tr>\n",
              "      <th>1</th>\n",
              "      <td>Location</td>\n",
              "      <td>0</td>\n",
              "      <td>0.000000</td>\n",
              "      <td>0</td>\n",
              "      <td>0.000000</td>\n",
              "      <td>49</td>\n",
              "      <td>object</td>\n",
              "    </tr>\n",
              "    <tr>\n",
              "      <th>2</th>\n",
              "      <td>MinTemp</td>\n",
              "      <td>1485</td>\n",
              "      <td>0.010209</td>\n",
              "      <td>159</td>\n",
              "      <td>0.001093</td>\n",
              "      <td>389</td>\n",
              "      <td>float64</td>\n",
              "    </tr>\n",
              "    <tr>\n",
              "      <th>3</th>\n",
              "      <td>MaxTemp</td>\n",
              "      <td>1261</td>\n",
              "      <td>0.008669</td>\n",
              "      <td>14</td>\n",
              "      <td>0.000096</td>\n",
              "      <td>505</td>\n",
              "      <td>float64</td>\n",
              "    </tr>\n",
              "    <tr>\n",
              "      <th>4</th>\n",
              "      <td>Rainfall</td>\n",
              "      <td>3261</td>\n",
              "      <td>0.022419</td>\n",
              "      <td>91080</td>\n",
              "      <td>0.626152</td>\n",
              "      <td>681</td>\n",
              "      <td>float64</td>\n",
              "    </tr>\n",
              "    <tr>\n",
              "      <th>5</th>\n",
              "      <td>Evaporation</td>\n",
              "      <td>62790</td>\n",
              "      <td>0.431665</td>\n",
              "      <td>244</td>\n",
              "      <td>0.001677</td>\n",
              "      <td>358</td>\n",
              "      <td>float64</td>\n",
              "    </tr>\n",
              "    <tr>\n",
              "      <th>6</th>\n",
              "      <td>Sunshine</td>\n",
              "      <td>69835</td>\n",
              "      <td>0.480098</td>\n",
              "      <td>2359</td>\n",
              "      <td>0.016218</td>\n",
              "      <td>145</td>\n",
              "      <td>float64</td>\n",
              "    </tr>\n",
              "    <tr>\n",
              "      <th>7</th>\n",
              "      <td>WindGustDir</td>\n",
              "      <td>10326</td>\n",
              "      <td>0.070989</td>\n",
              "      <td>0</td>\n",
              "      <td>0.000000</td>\n",
              "      <td>16</td>\n",
              "      <td>object</td>\n",
              "    </tr>\n",
              "    <tr>\n",
              "      <th>8</th>\n",
              "      <td>WindGustSpeed</td>\n",
              "      <td>10263</td>\n",
              "      <td>0.070555</td>\n",
              "      <td>0</td>\n",
              "      <td>0.000000</td>\n",
              "      <td>67</td>\n",
              "      <td>float64</td>\n",
              "    </tr>\n",
              "    <tr>\n",
              "      <th>9</th>\n",
              "      <td>WindDir9am</td>\n",
              "      <td>10566</td>\n",
              "      <td>0.072639</td>\n",
              "      <td>0</td>\n",
              "      <td>0.000000</td>\n",
              "      <td>16</td>\n",
              "      <td>object</td>\n",
              "    </tr>\n",
              "    <tr>\n",
              "      <th>10</th>\n",
              "      <td>WindDir3pm</td>\n",
              "      <td>4228</td>\n",
              "      <td>0.029066</td>\n",
              "      <td>0</td>\n",
              "      <td>0.000000</td>\n",
              "      <td>16</td>\n",
              "      <td>object</td>\n",
              "    </tr>\n",
              "    <tr>\n",
              "      <th>11</th>\n",
              "      <td>WindSpeed9am</td>\n",
              "      <td>1767</td>\n",
              "      <td>0.012148</td>\n",
              "      <td>8745</td>\n",
              "      <td>0.060120</td>\n",
              "      <td>43</td>\n",
              "      <td>float64</td>\n",
              "    </tr>\n",
              "    <tr>\n",
              "      <th>12</th>\n",
              "      <td>WindSpeed3pm</td>\n",
              "      <td>3062</td>\n",
              "      <td>0.021050</td>\n",
              "      <td>1112</td>\n",
              "      <td>0.007645</td>\n",
              "      <td>44</td>\n",
              "      <td>float64</td>\n",
              "    </tr>\n",
              "    <tr>\n",
              "      <th>13</th>\n",
              "      <td>Humidity9am</td>\n",
              "      <td>2654</td>\n",
              "      <td>0.018246</td>\n",
              "      <td>1</td>\n",
              "      <td>0.000007</td>\n",
              "      <td>101</td>\n",
              "      <td>float64</td>\n",
              "    </tr>\n",
              "    <tr>\n",
              "      <th>14</th>\n",
              "      <td>Humidity3pm</td>\n",
              "      <td>4507</td>\n",
              "      <td>0.030984</td>\n",
              "      <td>4</td>\n",
              "      <td>0.000027</td>\n",
              "      <td>101</td>\n",
              "      <td>float64</td>\n",
              "    </tr>\n",
              "    <tr>\n",
              "      <th>15</th>\n",
              "      <td>Pressure9am</td>\n",
              "      <td>15065</td>\n",
              "      <td>0.103568</td>\n",
              "      <td>0</td>\n",
              "      <td>0.000000</td>\n",
              "      <td>546</td>\n",
              "      <td>float64</td>\n",
              "    </tr>\n",
              "    <tr>\n",
              "      <th>16</th>\n",
              "      <td>Pressure3pm</td>\n",
              "      <td>15028</td>\n",
              "      <td>0.103314</td>\n",
              "      <td>0</td>\n",
              "      <td>0.000000</td>\n",
              "      <td>549</td>\n",
              "      <td>float64</td>\n",
              "    </tr>\n",
              "    <tr>\n",
              "      <th>17</th>\n",
              "      <td>Cloud9am</td>\n",
              "      <td>55888</td>\n",
              "      <td>0.384216</td>\n",
              "      <td>8642</td>\n",
              "      <td>0.059412</td>\n",
              "      <td>10</td>\n",
              "      <td>float64</td>\n",
              "    </tr>\n",
              "    <tr>\n",
              "      <th>18</th>\n",
              "      <td>Cloud3pm</td>\n",
              "      <td>59358</td>\n",
              "      <td>0.408071</td>\n",
              "      <td>4974</td>\n",
              "      <td>0.034195</td>\n",
              "      <td>10</td>\n",
              "      <td>float64</td>\n",
              "    </tr>\n",
              "    <tr>\n",
              "      <th>19</th>\n",
              "      <td>Temp9am</td>\n",
              "      <td>1767</td>\n",
              "      <td>0.012148</td>\n",
              "      <td>36</td>\n",
              "      <td>0.000247</td>\n",
              "      <td>441</td>\n",
              "      <td>float64</td>\n",
              "    </tr>\n",
              "    <tr>\n",
              "      <th>20</th>\n",
              "      <td>Temp3pm</td>\n",
              "      <td>3609</td>\n",
              "      <td>0.024811</td>\n",
              "      <td>17</td>\n",
              "      <td>0.000117</td>\n",
              "      <td>502</td>\n",
              "      <td>float64</td>\n",
              "    </tr>\n",
              "    <tr>\n",
              "      <th>21</th>\n",
              "      <td>RainToday</td>\n",
              "      <td>3261</td>\n",
              "      <td>0.022419</td>\n",
              "      <td>0</td>\n",
              "      <td>0.000000</td>\n",
              "      <td>2</td>\n",
              "      <td>object</td>\n",
              "    </tr>\n",
              "    <tr>\n",
              "      <th>22</th>\n",
              "      <td>RainTomorrow</td>\n",
              "      <td>3267</td>\n",
              "      <td>0.022460</td>\n",
              "      <td>0</td>\n",
              "      <td>0.000000</td>\n",
              "      <td>2</td>\n",
              "      <td>object</td>\n",
              "    </tr>\n",
              "  </tbody>\n",
              "</table>\n",
              "</div>"
            ],
            "text/plain": [
              "         variable  q_nan     p_nan  q_zeros   p_zeros  unique     type\n",
              "0            Date      0  0.000000        0  0.000000    3436   object\n",
              "1        Location      0  0.000000        0  0.000000      49   object\n",
              "2         MinTemp   1485  0.010209      159  0.001093     389  float64\n",
              "3         MaxTemp   1261  0.008669       14  0.000096     505  float64\n",
              "4        Rainfall   3261  0.022419    91080  0.626152     681  float64\n",
              "5     Evaporation  62790  0.431665      244  0.001677     358  float64\n",
              "6        Sunshine  69835  0.480098     2359  0.016218     145  float64\n",
              "7     WindGustDir  10326  0.070989        0  0.000000      16   object\n",
              "8   WindGustSpeed  10263  0.070555        0  0.000000      67  float64\n",
              "9      WindDir9am  10566  0.072639        0  0.000000      16   object\n",
              "10     WindDir3pm   4228  0.029066        0  0.000000      16   object\n",
              "11   WindSpeed9am   1767  0.012148     8745  0.060120      43  float64\n",
              "12   WindSpeed3pm   3062  0.021050     1112  0.007645      44  float64\n",
              "13    Humidity9am   2654  0.018246        1  0.000007     101  float64\n",
              "14    Humidity3pm   4507  0.030984        4  0.000027     101  float64\n",
              "15    Pressure9am  15065  0.103568        0  0.000000     546  float64\n",
              "16    Pressure3pm  15028  0.103314        0  0.000000     549  float64\n",
              "17       Cloud9am  55888  0.384216     8642  0.059412      10  float64\n",
              "18       Cloud3pm  59358  0.408071     4974  0.034195      10  float64\n",
              "19        Temp9am   1767  0.012148       36  0.000247     441  float64\n",
              "20        Temp3pm   3609  0.024811       17  0.000117     502  float64\n",
              "21      RainToday   3261  0.022419        0  0.000000       2   object\n",
              "22   RainTomorrow   3267  0.022460        0  0.000000       2   object"
            ]
          },
          "metadata": {
            "tags": []
          },
          "execution_count": 6
        }
      ]
    },
    {
      "cell_type": "code",
      "metadata": {
        "id": "2ic_Psugsaji",
        "colab": {
          "base_uri": "https://localhost:8080/"
        },
        "outputId": "4057694b-d6d7-4404-d6db-af99162e03b7"
      },
      "source": [
        "\n",
        "nans = dataset.loc[dataset.isna().sum(axis=1) >= 1, :]\n",
        "print('Cantidad de filas con nans {}'.format(nans.shape))\n",
        "\n",
        "not_nans = dataset.loc[dataset.isna().sum(axis=1) == 0, :]\n",
        "print('Cantidad de filas sin nans {}'.format(not_nans.shape))\n"
      ],
      "execution_count": 7,
      "outputs": [
        {
          "output_type": "stream",
          "text": [
            "Cantidad de filas con nans (89040, 23)\n",
            "Cantidad de filas sin nans (56420, 23)\n"
          ],
          "name": "stdout"
        }
      ]
    },
    {
      "cell_type": "code",
      "metadata": {
        "colab": {
          "base_uri": "https://localhost:8080/",
          "height": 405
        },
        "id": "xeDEmJFgJcMJ",
        "outputId": "31bd2d11-d936-43d7-d0e7-852ba7b5893d"
      },
      "source": [
        "#visualizo los nans\n",
        "sns.heatmap(dataset.isnull(),yticklabels=False,cbar=False,cmap='viridis')"
      ],
      "execution_count": 8,
      "outputs": [
        {
          "output_type": "execute_result",
          "data": {
            "text/plain": [
              "<matplotlib.axes._subplots.AxesSubplot at 0x7f0b5c233e50>"
            ]
          },
          "metadata": {
            "tags": []
          },
          "execution_count": 8
        },
        {
          "output_type": "display_data",
          "data": {
            "image/png": "[encoded data removed]",
            "text/plain": [
              "<Figure size 432x288 with 1 Axes>"
            ]
          },
          "metadata": {
            "tags": []
          }
        }
      ]
    },
    {
      "cell_type": "code",
      "metadata": {
        "id": "xIXGDX9OsjMW",
        "colab": {
          "base_uri": "https://localhost:8080/",
          "height": 297
        },
        "outputId": "a6ba9948-ddbe-422f-e653-3b28dc5d295f"
      },
      "source": [
        "#obtengo las estadisticas basicas de cada una de las columnas\n",
        "dataset.describe()"
      ],
      "execution_count": 9,
      "outputs": [
        {
          "output_type": "execute_result",
          "data": {
            "text/html": [
              "<div>\n",
              "<style scoped>\n",
              "    .dataframe tbody tr th:only-of-type {\n",
              "        vertical-align: middle;\n",
              "    }\n",
              "\n",
              "    .dataframe tbody tr th {\n",
              "        vertical-align: top;\n",
              "    }\n",
              "\n",
              "    .dataframe thead th {\n",
              "        text-align: right;\n",
              "    }\n",
              "</style>\n",
              "<table border=\"1\" class=\"dataframe\">\n",
              "  <thead>\n",
              "    <tr style=\"text-align: right;\">\n",
              "      <th></th>\n",
              "      <th>MinTemp</th>\n",
              "      <th>MaxTemp</th>\n",
              "      <th>Rainfall</th>\n",
              "      <th>Evaporation</th>\n",
              "      <th>Sunshine</th>\n",
              "      <th>WindGustSpeed</th>\n",
              "      <th>WindSpeed9am</th>\n",
              "      <th>WindSpeed3pm</th>\n",
              "      <th>Humidity9am</th>\n",
              "      <th>Humidity3pm</th>\n",
              "      <th>Pressure9am</th>\n",
              "      <th>Pressure3pm</th>\n",
              "      <th>Cloud9am</th>\n",
              "      <th>Cloud3pm</th>\n",
              "      <th>Temp9am</th>\n",
              "      <th>Temp3pm</th>\n",
              "    </tr>\n",
              "  </thead>\n",
              "  <tbody>\n",
              "    <tr>\n",
              "      <th>count</th>\n",
              "      <td>143975.000000</td>\n",
              "      <td>144199.000000</td>\n",
              "      <td>142199.000000</td>\n",
              "      <td>82670.000000</td>\n",
              "      <td>75625.000000</td>\n",
              "      <td>135197.000000</td>\n",
              "      <td>143693.000000</td>\n",
              "      <td>142398.000000</td>\n",
              "      <td>142806.000000</td>\n",
              "      <td>140953.000000</td>\n",
              "      <td>130395.00000</td>\n",
              "      <td>130432.000000</td>\n",
              "      <td>89572.000000</td>\n",
              "      <td>86102.000000</td>\n",
              "      <td>143693.000000</td>\n",
              "      <td>141851.00000</td>\n",
              "    </tr>\n",
              "    <tr>\n",
              "      <th>mean</th>\n",
              "      <td>12.194034</td>\n",
              "      <td>23.221348</td>\n",
              "      <td>2.360918</td>\n",
              "      <td>5.468232</td>\n",
              "      <td>7.611178</td>\n",
              "      <td>40.035230</td>\n",
              "      <td>14.043426</td>\n",
              "      <td>18.662657</td>\n",
              "      <td>68.880831</td>\n",
              "      <td>51.539116</td>\n",
              "      <td>1017.64994</td>\n",
              "      <td>1015.255889</td>\n",
              "      <td>4.447461</td>\n",
              "      <td>4.509930</td>\n",
              "      <td>16.990631</td>\n",
              "      <td>21.68339</td>\n",
              "    </tr>\n",
              "    <tr>\n",
              "      <th>std</th>\n",
              "      <td>6.398495</td>\n",
              "      <td>7.119049</td>\n",
              "      <td>8.478060</td>\n",
              "      <td>4.193704</td>\n",
              "      <td>3.785483</td>\n",
              "      <td>13.607062</td>\n",
              "      <td>8.915375</td>\n",
              "      <td>8.809800</td>\n",
              "      <td>19.029164</td>\n",
              "      <td>20.795902</td>\n",
              "      <td>7.10653</td>\n",
              "      <td>7.037414</td>\n",
              "      <td>2.887159</td>\n",
              "      <td>2.720357</td>\n",
              "      <td>6.488753</td>\n",
              "      <td>6.93665</td>\n",
              "    </tr>\n",
              "    <tr>\n",
              "      <th>min</th>\n",
              "      <td>-8.500000</td>\n",
              "      <td>-4.800000</td>\n",
              "      <td>0.000000</td>\n",
              "      <td>0.000000</td>\n",
              "      <td>0.000000</td>\n",
              "      <td>6.000000</td>\n",
              "      <td>0.000000</td>\n",
              "      <td>0.000000</td>\n",
              "      <td>0.000000</td>\n",
              "      <td>0.000000</td>\n",
              "      <td>980.50000</td>\n",
              "      <td>977.100000</td>\n",
              "      <td>0.000000</td>\n",
              "      <td>0.000000</td>\n",
              "      <td>-7.200000</td>\n",
              "      <td>-5.40000</td>\n",
              "    </tr>\n",
              "    <tr>\n",
              "      <th>25%</th>\n",
              "      <td>7.600000</td>\n",
              "      <td>17.900000</td>\n",
              "      <td>0.000000</td>\n",
              "      <td>2.600000</td>\n",
              "      <td>4.800000</td>\n",
              "      <td>31.000000</td>\n",
              "      <td>7.000000</td>\n",
              "      <td>13.000000</td>\n",
              "      <td>57.000000</td>\n",
              "      <td>37.000000</td>\n",
              "      <td>1012.90000</td>\n",
              "      <td>1010.400000</td>\n",
              "      <td>1.000000</td>\n",
              "      <td>2.000000</td>\n",
              "      <td>12.300000</td>\n",
              "      <td>16.60000</td>\n",
              "    </tr>\n",
              "    <tr>\n",
              "      <th>50%</th>\n",
              "      <td>12.000000</td>\n",
              "      <td>22.600000</td>\n",
              "      <td>0.000000</td>\n",
              "      <td>4.800000</td>\n",
              "      <td>8.400000</td>\n",
              "      <td>39.000000</td>\n",
              "      <td>13.000000</td>\n",
              "      <td>19.000000</td>\n",
              "      <td>70.000000</td>\n",
              "      <td>52.000000</td>\n",
              "      <td>1017.60000</td>\n",
              "      <td>1015.200000</td>\n",
              "      <td>5.000000</td>\n",
              "      <td>5.000000</td>\n",
              "      <td>16.700000</td>\n",
              "      <td>21.10000</td>\n",
              "    </tr>\n",
              "    <tr>\n",
              "      <th>75%</th>\n",
              "      <td>16.900000</td>\n",
              "      <td>28.200000</td>\n",
              "      <td>0.800000</td>\n",
              "      <td>7.400000</td>\n",
              "      <td>10.600000</td>\n",
              "      <td>48.000000</td>\n",
              "      <td>19.000000</td>\n",
              "      <td>24.000000</td>\n",
              "      <td>83.000000</td>\n",
              "      <td>66.000000</td>\n",
              "      <td>1022.40000</td>\n",
              "      <td>1020.000000</td>\n",
              "      <td>7.000000</td>\n",
              "      <td>7.000000</td>\n",
              "      <td>21.600000</td>\n",
              "      <td>26.40000</td>\n",
              "    </tr>\n",
              "    <tr>\n",
              "      <th>max</th>\n",
              "      <td>33.900000</td>\n",
              "      <td>48.100000</td>\n",
              "      <td>371.000000</td>\n",
              "      <td>145.000000</td>\n",
              "      <td>14.500000</td>\n",
              "      <td>135.000000</td>\n",
              "      <td>130.000000</td>\n",
              "      <td>87.000000</td>\n",
              "      <td>100.000000</td>\n",
              "      <td>100.000000</td>\n",
              "      <td>1041.00000</td>\n",
              "      <td>1039.600000</td>\n",
              "      <td>9.000000</td>\n",
              "      <td>9.000000</td>\n",
              "      <td>40.200000</td>\n",
              "      <td>46.70000</td>\n",
              "    </tr>\n",
              "  </tbody>\n",
              "</table>\n",
              "</div>"
            ],
            "text/plain": [
              "             MinTemp        MaxTemp  ...        Temp9am       Temp3pm\n",
              "count  143975.000000  144199.000000  ...  143693.000000  141851.00000\n",
              "mean       12.194034      23.221348  ...      16.990631      21.68339\n",
              "std         6.398495       7.119049  ...       6.488753       6.93665\n",
              "min        -8.500000      -4.800000  ...      -7.200000      -5.40000\n",
              "25%         7.600000      17.900000  ...      12.300000      16.60000\n",
              "50%        12.000000      22.600000  ...      16.700000      21.10000\n",
              "75%        16.900000      28.200000  ...      21.600000      26.40000\n",
              "max        33.900000      48.100000  ...      40.200000      46.70000\n",
              "\n",
              "[8 rows x 16 columns]"
            ]
          },
          "metadata": {
            "tags": []
          },
          "execution_count": 9
        }
      ]
    },
    {
      "cell_type": "markdown",
      "metadata": {
        "id": "Y49utD6rlAMy"
      },
      "source": [
        "***Conclusiones primer analisis***: Las variables categoricas en primera instancia son Date, Location, WindGustDir, WindDir9am, WindDir3pm, RainToday.\n",
        "La variable a predecir es RainTomorrow (variable de salida) y las demas variables son numericas.\n",
        "Todas las variables menos la variable a predecir (RainTomorrow) son input para el modelo (variables de entrada)"
      ]
    },
    {
      "cell_type": "markdown",
      "metadata": {
        "id": "MoLdLMHglK7G"
      },
      "source": [
        " ***3) Realizar los siguientes análisis por tipo de\n",
        "variable.***\n",
        "\n",
        "**Numéricas**: Obtener conclusiones acerca de la distribución de los datos."
      ]
    },
    {
      "cell_type": "code",
      "metadata": {
        "id": "W7XUxot5mlHC",
        "colab": {
          "base_uri": "https://localhost:8080/",
          "height": 628
        },
        "outputId": "44eeb81c-db88-4938-e606-4da8fd42714b"
      },
      "source": [
        "#Funcion para mostrar distribuciones.\n",
        "def display_dataset_distributions(dataset):\n",
        "    fig = dataset.hist(xlabelsize=12, ylabelsize=12,figsize=(22,10))\n",
        "    [x.title.set_size(14) for x in fig.ravel()]\n",
        "    plt.tight_layout()\n",
        "    plt.show()\n",
        "  \n",
        "#Muestro la distribucion de los datos\n",
        "display_dataset_distributions(dataset)"
      ],
      "execution_count": 10,
      "outputs": [
        {
          "output_type": "display_data",
          "data": {
            "image/png": "[encoded data removed]",
            "text/plain": [
              "<Figure size 1584x720 with 16 Axes>"
            ]
          },
          "metadata": {
            "tags": []
          }
        }
      ]
    },
    {
      "cell_type": "markdown",
      "metadata": {
        "id": "edav428Bm9Hj"
      },
      "source": [
        "**Categóricas**: Obtener conclusiones acerca de cardinalidad, representación de cada categoría,etc"
      ]
    },
    {
      "cell_type": "code",
      "metadata": {
        "colab": {
          "base_uri": "https://localhost:8080/"
        },
        "id": "KYybqRgLnCSA",
        "outputId": "6f7570a6-74d2-439d-ad0f-a19f23123373"
      },
      "source": [
        "dataset.Date.unique() #alta cardinalidad"
      ],
      "execution_count": 11,
      "outputs": [
        {
          "output_type": "execute_result",
          "data": {
            "text/plain": [
              "array(['2008-12-01', '2008-12-02', '2008-12-03', ..., '2008-01-29',\n",
              "       '2008-01-30', '2008-01-31'], dtype=object)"
            ]
          },
          "metadata": {
            "tags": []
          },
          "execution_count": 11
        }
      ]
    },
    {
      "cell_type": "code",
      "metadata": {
        "colab": {
          "base_uri": "https://localhost:8080/"
        },
        "id": "WE1R5arbnwAM",
        "outputId": "909fba68-6ffa-43fb-9eef-90b5020316be"
      },
      "source": [
        "dataset.Location.unique() #alta cardinalidad"
      ],
      "execution_count": 12,
      "outputs": [
        {
          "output_type": "execute_result",
          "data": {
            "text/plain": [
              "array(['Albury', 'BadgerysCreek', 'Cobar', 'CoffsHarbour', 'Moree',\n",
              "       'Newcastle', 'NorahHead', 'NorfolkIsland', 'Penrith', 'Richmond',\n",
              "       'Sydney', 'SydneyAirport', 'WaggaWagga', 'Williamtown',\n",
              "       'Wollongong', 'Canberra', 'Tuggeranong', 'MountGinini', 'Ballarat',\n",
              "       'Bendigo', 'Sale', 'MelbourneAirport', 'Melbourne', 'Mildura',\n",
              "       'Nhil', 'Portland', 'Watsonia', 'Dartmoor', 'Brisbane', 'Cairns',\n",
              "       'GoldCoast', 'Townsville', 'Adelaide', 'MountGambier', 'Nuriootpa',\n",
              "       'Woomera', 'Albany', 'Witchcliffe', 'PearceRAAF', 'PerthAirport',\n",
              "       'Perth', 'SalmonGums', 'Walpole', 'Hobart', 'Launceston',\n",
              "       'AliceSprings', 'Darwin', 'Katherine', 'Uluru'], dtype=object)"
            ]
          },
          "metadata": {
            "tags": []
          },
          "execution_count": 12
        }
      ]
    },
    {
      "cell_type": "code",
      "metadata": {
        "colab": {
          "base_uri": "https://localhost:8080/"
        },
        "id": "GN-kb8O2oNSj",
        "outputId": "489eb80f-8caa-46bd-9d74-ae858b560293"
      },
      "source": [
        "dataset.WindGustDir.unique() # baja cardinalidad  "
      ],
      "execution_count": 13,
      "outputs": [
        {
          "output_type": "execute_result",
          "data": {
            "text/plain": [
              "array(['W', 'WNW', 'WSW', 'NE', 'NNW', 'N', 'NNE', 'SW', nan, 'ENE',\n",
              "       'SSE', 'S', 'NW', 'SE', 'ESE', 'E', 'SSW'], dtype=object)"
            ]
          },
          "metadata": {
            "tags": []
          },
          "execution_count": 13
        }
      ]
    },
    {
      "cell_type": "code",
      "metadata": {
        "colab": {
          "base_uri": "https://localhost:8080/"
        },
        "id": "wnhOBX-RorIX",
        "outputId": "8664fcb1-2284-4dba-b5b5-b378f268334d"
      },
      "source": [
        "dataset.WindDir9am.unique()# baja cardinalidad"
      ],
      "execution_count": 14,
      "outputs": [
        {
          "output_type": "execute_result",
          "data": {
            "text/plain": [
              "array(['W', 'NNW', 'SE', 'ENE', 'SW', 'SSE', 'S', 'NE', nan, 'SSW', 'N',\n",
              "       'WSW', 'ESE', 'E', 'NW', 'WNW', 'NNE'], dtype=object)"
            ]
          },
          "metadata": {
            "tags": []
          },
          "execution_count": 14
        }
      ]
    },
    {
      "cell_type": "code",
      "metadata": {
        "colab": {
          "base_uri": "https://localhost:8080/"
        },
        "id": "Lpt5MX-Rownk",
        "outputId": "a3d91228-54ed-4e8f-d937-ba5425c1c53d"
      },
      "source": [
        "dataset.WindDir3pm.unique()# baja cardinalidad"
      ],
      "execution_count": 15,
      "outputs": [
        {
          "output_type": "execute_result",
          "data": {
            "text/plain": [
              "array(['WNW', 'WSW', 'E', 'NW', 'W', 'SSE', 'ESE', 'ENE', 'NNW', 'SSW',\n",
              "       'SW', 'SE', 'N', 'S', 'NNE', nan, 'NE'], dtype=object)"
            ]
          },
          "metadata": {
            "tags": []
          },
          "execution_count": 15
        }
      ]
    },
    {
      "cell_type": "code",
      "metadata": {
        "colab": {
          "base_uri": "https://localhost:8080/"
        },
        "id": "WNRWSPNMo7Tm",
        "outputId": "c344d1d6-7487-4453-f3e5-4558ac339f61"
      },
      "source": [
        "dataset.RainToday.unique()# baja cardinalidad"
      ],
      "execution_count": 16,
      "outputs": [
        {
          "output_type": "execute_result",
          "data": {
            "text/plain": [
              "array(['No', 'Yes', nan], dtype=object)"
            ]
          },
          "metadata": {
            "tags": []
          },
          "execution_count": 16
        }
      ]
    },
    {
      "cell_type": "markdown",
      "metadata": {
        "id": "rHnu6NU-pXmN"
      },
      "source": [
        "***Conclusion segundo analisis***: Se identificaron dos variables categoricas con alta cardinalidad: Date y Location. Para la variable Date se puede hacer un tratamiento ya que, ademas, se puede considerar una variable compuesta."
      ]
    },
    {
      "cell_type": "code",
      "metadata": {
        "colab": {
          "base_uri": "https://localhost:8080/",
          "height": 450
        },
        "id": "NOH7Ar45Q0AM",
        "outputId": "ed74ac8e-c51c-431e-a2f7-9aa0b1c09312"
      },
      "source": [
        "#veo si las clases estan balanceadas y analizo la variable de salida\n",
        "fig, ax = plt.subplots(1,figsize=(8,6))\n",
        "ax.hist(dataset.RainTomorrow.apply(lambda label: 0 if (label == 'No') else 1))"
      ],
      "execution_count": 17,
      "outputs": [
        {
          "output_type": "execute_result",
          "data": {
            "text/plain": [
              "(array([110316.,      0.,      0.,      0.,      0.,      0.,      0.,\n",
              "             0.,      0.,  35144.]),\n",
              " array([0. , 0.1, 0.2, 0.3, 0.4, 0.5, 0.6, 0.7, 0.8, 0.9, 1. ]),\n",
              " <a list of 10 Patch objects>)"
            ]
          },
          "metadata": {
            "tags": []
          },
          "execution_count": 17
        },
        {
          "output_type": "display_data",
          "data": {
            "image/png": "[encoded data removed]",
            "text/plain": [
              "<Figure size 576x432 with 1 Axes>"
            ]
          },
          "metadata": {
            "tags": []
          }
        }
      ]
    },
    {
      "cell_type": "markdown",
      "metadata": {
        "id": "lIH9FWvaMNsV"
      },
      "source": [
        "**Conclusion**: En el analisis realizado se puede ver que las clases estan desbalanceadas."
      ]
    },
    {
      "cell_type": "markdown",
      "metadata": {
        "id": "pE7e4vtzLJ5D"
      },
      "source": [
        "#Tratamiento de outliers"
      ]
    },
    {
      "cell_type": "code",
      "metadata": {
        "id": "xk9FGoGlLJHc"
      },
      "source": [
        "#creo una funcion para obtener los limites de una variable\n",
        "def find_outliers(dataset, variables):\n",
        "    \n",
        "    Q1=dataset[variables].quantile(0.25)\n",
        "    Q3=dataset[variables].quantile(0.75)\n",
        "    IQR=Q3-Q1\n",
        "    lower_boundary = Q1-1.5*IQR\n",
        "    upper_boundary = Q3+1.5*IQR\n",
        "    return lower_boundary, upper_boundary"
      ],
      "execution_count": 18,
      "outputs": []
    },
    {
      "cell_type": "code",
      "metadata": {
        "id": "JlKgXBHTLeYu"
      },
      "source": [
        "#creo una funcion para graficar los outliers\n",
        "def plot_variable(dataset, variable):\n",
        "    plt.figure(figsize=(16,4))\n",
        "    plt.subplot(1,2,1)\n",
        "    plt.hist(dataset[variable], alpha=0.5)\n",
        "    \n",
        "    plt.subplot(1,2,2)\n",
        "    sns.boxplot(dataset[variable])\n",
        "    plt.show"
      ],
      "execution_count": 19,
      "outputs": []
    },
    {
      "cell_type": "code",
      "metadata": {
        "colab": {
          "base_uri": "https://localhost:8080/",
          "height": 1000
        },
        "id": "5TJSTUxgL0LU",
        "outputId": "f686579c-5f68-4340-eff3-73d89c16852b"
      },
      "source": [
        "plot_variable(dataset, 'Rainfall')\n",
        "plot_variable(dataset, 'Evaporation')\n",
        "plot_variable(dataset, 'WindGustSpeed')\n",
        "plot_variable(dataset, 'WindSpeed9am')\n",
        "plot_variable(dataset, 'WindSpeed3pm')"
      ],
      "execution_count": 20,
      "outputs": [
        {
          "output_type": "display_data",
          "data": {
            "image/png": "[encoded data removed]",
            "text/plain": [
              "<Figure size 1152x288 with 2 Axes>"
            ]
          },
          "metadata": {
            "tags": []
          }
        },
        {
          "output_type": "display_data",
          "data": {
            "image/png": "[encoded data removed]",
            "text/plain": [
              "<Figure size 1152x288 with 2 Axes>"
            ]
          },
          "metadata": {
            "tags": []
          }
        },
        {
          "output_type": "display_data",
          "data": {
            "image/png": "[encoded data removed]",
            "text/plain": [
              "<Figure size 1152x288 with 2 Axes>"
            ]
          },
          "metadata": {
            "tags": []
          }
        },
        {
          "output_type": "display_data",
          "data": {
            "image/png": "[encoded data removed]",
            "text/plain": [
              "<Figure size 1152x288 with 2 Axes>"
            ]
          },
          "metadata": {
            "tags": []
          }
        },
        {
          "output_type": "display_data",
          "data": {
            "image/png": "[encoded data removed]",
            "text/plain": [
              "<Figure size 1152x288 with 2 Axes>"
            ]
          },
          "metadata": {
            "tags": []
          }
        }
      ]
    },
    {
      "cell_type": "code",
      "metadata": {
        "colab": {
          "base_uri": "https://localhost:8080/"
        },
        "id": "R0uzgUmiMmW8",
        "outputId": "48a1989c-59eb-40fe-877f-787f6d3d6b5c"
      },
      "source": [
        "#limite inferior y superior de la variable rainfall\n",
        "lower_rainfall, upper_rainfall = find_outliers(dataset, 'Rainfall')\n",
        "print('upper limit for Rainfall area is', upper_rainfall)\n",
        "print('lower limit for Rainfall area is', lower_rainfall)"
      ],
      "execution_count": 22,
      "outputs": [
        {
          "output_type": "stream",
          "text": [
            "upper limit for Rainfall area is 2.0\n",
            "lower limit for Rainfall area is -1.2000000000000002\n"
          ],
          "name": "stdout"
        }
      ]
    },
    {
      "cell_type": "code",
      "metadata": {
        "id": "o6FpxBmCNCkU"
      },
      "source": [
        "outliers_rainfall = np.where(dataset['Rainfall'] > upper_rainfall, True,\n",
        "                            np.where(dataset['Rainfall'] < lower_rainfall, True, False))"
      ],
      "execution_count": 23,
      "outputs": []
    },
    {
      "cell_type": "code",
      "metadata": {
        "colab": {
          "base_uri": "https://localhost:8080/"
        },
        "id": "7j7rt-HmNJG0",
        "outputId": "c5bb048c-361e-47cb-b480-15c2adc0bec9"
      },
      "source": [
        "outliers_rainfall"
      ],
      "execution_count": 24,
      "outputs": [
        {
          "output_type": "execute_result",
          "data": {
            "text/plain": [
              "array([False, False, False, ..., False, False, False])"
            ]
          },
          "metadata": {
            "tags": []
          },
          "execution_count": 24
        }
      ]
    },
    {
      "cell_type": "code",
      "metadata": {
        "id": "kxGSxqIONR14"
      },
      "source": [
        "out_rainfall = dataset.loc[~(outliers_rainfall),]"
      ],
      "execution_count": 25,
      "outputs": []
    },
    {
      "cell_type": "code",
      "metadata": {
        "colab": {
          "base_uri": "https://localhost:8080/"
        },
        "id": "ImPsuaheNm17",
        "outputId": "4d5569b9-40b4-43e6-e56e-865791ba0def"
      },
      "source": [
        "out_rainfall.shape"
      ],
      "execution_count": 26,
      "outputs": [
        {
          "output_type": "execute_result",
          "data": {
            "text/plain": [
              "(119882, 23)"
            ]
          },
          "metadata": {
            "tags": []
          },
          "execution_count": 26
        }
      ]
    },
    {
      "cell_type": "markdown",
      "metadata": {
        "id": "EPCmpv6BNr3d"
      },
      "source": [
        "Mismo tratamiento para Evaporation"
      ]
    },
    {
      "cell_type": "code",
      "metadata": {
        "colab": {
          "base_uri": "https://localhost:8080/"
        },
        "id": "DqX2f0wUNta8",
        "outputId": "99940cbe-a985-42bd-da32-a66220ab8811"
      },
      "source": [
        "#limite inferior y superior de la variable evaporation\n",
        "lower_evaporation, upper_evaporation = find_outliers(dataset, 'Evaporation')\n",
        "print('upper limit for Evaporation area is', upper_evaporation)\n",
        "print('lower limit for Evaporation area is', lower_evaporation)"
      ],
      "execution_count": 27,
      "outputs": [
        {
          "output_type": "stream",
          "text": [
            "upper limit for Evaporation area is 14.600000000000001\n",
            "lower limit for Evaporation area is -4.600000000000001\n"
          ],
          "name": "stdout"
        }
      ]
    },
    {
      "cell_type": "code",
      "metadata": {
        "id": "15TOCik-N0Y1"
      },
      "source": [
        "outliers_evaporation = np.where(dataset['Evaporation'] > upper_evaporation, True,\n",
        "                               np.where(dataset['Evaporation'] < lower_evaporation,True,False))"
      ],
      "execution_count": 28,
      "outputs": []
    },
    {
      "cell_type": "code",
      "metadata": {
        "colab": {
          "base_uri": "https://localhost:8080/"
        },
        "id": "BwJnzVP3N9xv",
        "outputId": "6ec60dda-3d1e-421a-e79f-c04cc10b111f"
      },
      "source": [
        "outliers_evaporation"
      ],
      "execution_count": 29,
      "outputs": [
        {
          "output_type": "execute_result",
          "data": {
            "text/plain": [
              "array([False, False, False, ..., False, False, False])"
            ]
          },
          "metadata": {
            "tags": []
          },
          "execution_count": 29
        }
      ]
    },
    {
      "cell_type": "code",
      "metadata": {
        "id": "827IOGfTN-5T"
      },
      "source": [
        "out_evaporation = dataset.loc[~(outliers_evaporation),]"
      ],
      "execution_count": 30,
      "outputs": []
    },
    {
      "cell_type": "code",
      "metadata": {
        "colab": {
          "base_uri": "https://localhost:8080/"
        },
        "id": "ddFW0V6LOFCF",
        "outputId": "0df14b09-b0ef-4644-cb04-890c8787d33e"
      },
      "source": [
        "out_evaporation.shape"
      ],
      "execution_count": 31,
      "outputs": [
        {
          "output_type": "execute_result",
          "data": {
            "text/plain": [
              "(143465, 23)"
            ]
          },
          "metadata": {
            "tags": []
          },
          "execution_count": 31
        }
      ]
    },
    {
      "cell_type": "markdown",
      "metadata": {
        "id": "TZzGM6Y8OLgN"
      },
      "source": [
        "Mismo tratamiento para WindGustSpeed"
      ]
    },
    {
      "cell_type": "code",
      "metadata": {
        "colab": {
          "base_uri": "https://localhost:8080/"
        },
        "id": "GzHrb1nAONSg",
        "outputId": "6eb26b9a-cc10-493e-daf2-cf9c2554f8f3"
      },
      "source": [
        "#limite inferior y superior de la variable WindGustSpeed\n",
        "lower_wgustspeed, upper_wgustspeed = find_outliers(dataset, 'WindGustSpeed')\n",
        "print('upper limit for WindGustSpeed area is', upper_wgustspeed)\n",
        "print('lower limit for WindGustSpeed area is', lower_wgustspeed)"
      ],
      "execution_count": 33,
      "outputs": [
        {
          "output_type": "stream",
          "text": [
            "upper limit for WindGustSpeed area is 73.5\n",
            "lower limit for WindGustSpeed area is 5.5\n"
          ],
          "name": "stdout"
        }
      ]
    },
    {
      "cell_type": "code",
      "metadata": {
        "id": "S8-hOHF-OTid"
      },
      "source": [
        "outliers_WindGustSpeed = np.where(dataset['WindGustSpeed'] > upper_wgustspeed, True,\n",
        "                               np.where(dataset['WindGustSpeed'] < lower_wgustspeed,True,False))"
      ],
      "execution_count": 34,
      "outputs": []
    },
    {
      "cell_type": "code",
      "metadata": {
        "colab": {
          "base_uri": "https://localhost:8080/"
        },
        "id": "pWGDHNgeOf1Y",
        "outputId": "09cef515-aed7-4bfd-c25a-cd061fbe95fe"
      },
      "source": [
        "outliers_WindGustSpeed"
      ],
      "execution_count": 35,
      "outputs": [
        {
          "output_type": "execute_result",
          "data": {
            "text/plain": [
              "array([False, False, False, ..., False, False, False])"
            ]
          },
          "metadata": {
            "tags": []
          },
          "execution_count": 35
        }
      ]
    },
    {
      "cell_type": "code",
      "metadata": {
        "id": "3npMe7p3OiwW"
      },
      "source": [
        "out_WindGustSpeed = dataset.loc[~(outliers_WindGustSpeed),]"
      ],
      "execution_count": 36,
      "outputs": []
    },
    {
      "cell_type": "code",
      "metadata": {
        "colab": {
          "base_uri": "https://localhost:8080/"
        },
        "id": "SRGO8f7oOo8Z",
        "outputId": "67f55e68-b5e7-449d-d389-3b83ae7e8acb"
      },
      "source": [
        "out_WindGustSpeed.shape"
      ],
      "execution_count": 37,
      "outputs": [
        {
          "output_type": "execute_result",
          "data": {
            "text/plain": [
              "(142368, 23)"
            ]
          },
          "metadata": {
            "tags": []
          },
          "execution_count": 37
        }
      ]
    },
    {
      "cell_type": "markdown",
      "metadata": {
        "id": "sb4cqBXhOwTd"
      },
      "source": [
        "Mismo tratamiento para WindSpeed9am"
      ]
    },
    {
      "cell_type": "code",
      "metadata": {
        "colab": {
          "base_uri": "https://localhost:8080/"
        },
        "id": "YADoQPQkOxfK",
        "outputId": "047f9c0c-7863-4326-9dca-f7e3270bcb75"
      },
      "source": [
        "#limite inferior y superior de la variable WindSpeed9am\n",
        "lower_wspeed, upper_wspeed = find_outliers(dataset, 'WindSpeed9am')\n",
        "print('upper limit for WindSpeed9am area is', upper_wspeed)\n",
        "print('lower limit for WindSpeed9am area is', lower_wspeed)"
      ],
      "execution_count": 38,
      "outputs": [
        {
          "output_type": "stream",
          "text": [
            "upper limit for WindSpeed9am area is 37.0\n",
            "lower limit for WindSpeed9am area is -11.0\n"
          ],
          "name": "stdout"
        }
      ]
    },
    {
      "cell_type": "code",
      "metadata": {
        "id": "22Jf2QtVOz5A"
      },
      "source": [
        "outliers_WindSpeed9am = np.where(dataset['WindSpeed9am'] > upper_wspeed, True,\n",
        "                               np.where(dataset['WindSpeed9am'] < lower_wspeed,True,False))"
      ],
      "execution_count": 39,
      "outputs": []
    },
    {
      "cell_type": "code",
      "metadata": {
        "colab": {
          "base_uri": "https://localhost:8080/"
        },
        "id": "HW3FmVVWPBc3",
        "outputId": "88a7c006-dc2e-4476-b370-faa1bc64c62a"
      },
      "source": [
        "outliers_WindSpeed9am"
      ],
      "execution_count": 40,
      "outputs": [
        {
          "output_type": "execute_result",
          "data": {
            "text/plain": [
              "array([False, False, False, ..., False, False, False])"
            ]
          },
          "metadata": {
            "tags": []
          },
          "execution_count": 40
        }
      ]
    },
    {
      "cell_type": "code",
      "metadata": {
        "id": "1-HUo6CuPFgt"
      },
      "source": [
        "out_WindSpeed9am = dataset.loc[~(outliers_WindSpeed9am),]"
      ],
      "execution_count": 41,
      "outputs": []
    },
    {
      "cell_type": "code",
      "metadata": {
        "colab": {
          "base_uri": "https://localhost:8080/"
        },
        "id": "_uqgDdt6PTC5",
        "outputId": "8db2e957-8dc4-4500-c985-b7c6ea7c9e09"
      },
      "source": [
        "out_WindSpeed9am.shape"
      ],
      "execution_count": 42,
      "outputs": [
        {
          "output_type": "execute_result",
          "data": {
            "text/plain": [
              "(143643, 23)"
            ]
          },
          "metadata": {
            "tags": []
          },
          "execution_count": 42
        }
      ]
    },
    {
      "cell_type": "markdown",
      "metadata": {
        "id": "zpzdv6gWPZUf"
      },
      "source": [
        "Mismo tratamiento para WindSpeed3pm"
      ]
    },
    {
      "cell_type": "code",
      "metadata": {
        "colab": {
          "base_uri": "https://localhost:8080/"
        },
        "id": "dnjZ-4nWPbOe",
        "outputId": "cd7929ac-b618-4477-de37-19c6a97d0935"
      },
      "source": [
        "#limite inferior y superior de la variable WindSpeed3pm\n",
        "lower_wspeedp, upper_wspeedp = find_outliers(dataset, 'WindSpeed3pm')\n",
        "print('upper limit for windspeed3pm area is', upper_wspeedp)\n",
        "print('lower limit for windspeed3pm area is', lower_wspeedp)\n",
        "outliers_wspeedp = np.where(dataset['WindSpeed3pm'] > upper_wspeedp, True,\n",
        "                               np.where(dataset['WindSpeed3pm'] < lower_wspeedp,True,False))"
      ],
      "execution_count": 43,
      "outputs": [
        {
          "output_type": "stream",
          "text": [
            "upper limit for windspeed3pm area is 40.5\n",
            "lower limit for windspeed3pm area is -3.5\n"
          ],
          "name": "stdout"
        }
      ]
    },
    {
      "cell_type": "code",
      "metadata": {
        "colab": {
          "base_uri": "https://localhost:8080/"
        },
        "id": "mnOSwlVPPoWu",
        "outputId": "8484f65c-2240-4118-9b7c-78f479726acb"
      },
      "source": [
        "outliers_wspeedp"
      ],
      "execution_count": 44,
      "outputs": [
        {
          "output_type": "execute_result",
          "data": {
            "text/plain": [
              "array([False, False, False, ..., False, False, False])"
            ]
          },
          "metadata": {
            "tags": []
          },
          "execution_count": 44
        }
      ]
    },
    {
      "cell_type": "code",
      "metadata": {
        "id": "WKXQzP-_Psgm"
      },
      "source": [
        "out_WindSpeed3pm = dataset.loc[~(outliers_wspeedp),]"
      ],
      "execution_count": 45,
      "outputs": []
    },
    {
      "cell_type": "code",
      "metadata": {
        "colab": {
          "base_uri": "https://localhost:8080/"
        },
        "id": "WGBOO-G6P1Qe",
        "outputId": "2c8380e0-8f81-4740-ec9f-5fa35a829354"
      },
      "source": [
        "out_WindSpeed3pm.shape"
      ],
      "execution_count": 46,
      "outputs": [
        {
          "output_type": "execute_result",
          "data": {
            "text/plain": [
              "(142937, 23)"
            ]
          },
          "metadata": {
            "tags": []
          },
          "execution_count": 46
        }
      ]
    },
    {
      "cell_type": "code",
      "metadata": {
        "colab": {
          "base_uri": "https://localhost:8080/",
          "height": 1000
        },
        "id": "0eG_8623P9ZG",
        "outputId": "129b45c4-a7ca-41b5-aa66-efaa871f8738"
      },
      "source": [
        "plot_variable(out_rainfall, 'Rainfall')\n",
        "plot_variable(out_evaporation, 'Evaporation')\n",
        "plot_variable(out_WindGustSpeed, 'WindGustSpeed')\n",
        "plot_variable(out_WindSpeed9am, 'WindSpeed9am')\n",
        "plot_variable(out_WindSpeed3pm, 'WindSpeed3pm')"
      ],
      "execution_count": 47,
      "outputs": [
        {
          "output_type": "display_data",
          "data": {
            "image/png": "[encoded data removed]",
            "text/plain": [
              "<Figure size 1152x288 with 2 Axes>"
            ]
          },
          "metadata": {
            "tags": []
          }
        },
        {
          "output_type": "display_data",
          "data": {
            "image/png": "[encoded data removed]",
            "text/plain": [
              "<Figure size 1152x288 with 2 Axes>"
            ]
          },
          "metadata": {
            "tags": []
          }
        },
        {
          "output_type": "display_data",
          "data": {
            "image/png": "[encoded data removed]",
            "text/plain": [
              "<Figure size 1152x288 with 2 Axes>"
            ]
          },
          "metadata": {
            "tags": []
          }
        },
        {
          "output_type": "display_data",
          "data": {
            "image/png": "[encoded data removed]",
            "text/plain": [
              "<Figure size 1152x288 with 2 Axes>"
            ]
          },
          "metadata": {
            "tags": []
          }
        },
        {
          "output_type": "display_data",
          "data": {
            "image/png": "[encoded data removed]",
            "text/plain": [
              "<Figure size 1152x288 with 2 Axes>"
            ]
          },
          "metadata": {
            "tags": []
          }
        }
      ]
    },
    {
      "cell_type": "markdown",
      "metadata": {
        "id": "9Xo1CPADS86d"
      },
      "source": [
        "#Tratamiento de NaNs con mediana y moda"
      ]
    },
    {
      "cell_type": "code",
      "metadata": {
        "id": "gZHbXFNkS3dv"
      },
      "source": [
        "#Tratamiento de NaNs\n",
        "dataset[\"MinTemp\"]= dataset[\"MinTemp\"].fillna(dataset[\"MinTemp\"].median())\n",
        "dataset[\"MaxTemp\"]= dataset[\"MaxTemp\"].fillna(dataset[\"MaxTemp\"].median())\n",
        "dataset[\"Evaporation\"]= dataset[\"Evaporation\"].fillna(dataset[\"Evaporation\"].median())\n",
        "dataset[\"Sunshine\"]= dataset[\"Sunshine\"].fillna(dataset[\"Sunshine\"].median())\n",
        "dataset[\"WindGustSpeed\"]= dataset[\"WindGustSpeed\"].fillna(dataset[\"WindGustSpeed\"].median())\n",
        "dataset[\"Rainfall\"]= dataset[\"Rainfall\"].fillna(dataset[\"Rainfall\"].median())\n",
        "dataset[\"WindSpeed9am\"]= dataset[\"WindSpeed9am\"].fillna(dataset[\"WindSpeed9am\"].median())\n",
        "dataset[\"WindSpeed3pm\"]= dataset[\"WindSpeed3pm\"].fillna(dataset[\"WindSpeed3pm\"].median())\n",
        "dataset[\"Humidity9am\"]= dataset[\"Humidity9am\"].fillna(dataset[\"Humidity9am\"].median())\n",
        "dataset[\"Humidity3pm\"]= dataset[\"Humidity3pm\"].fillna(dataset[\"Humidity3pm\"].median())\n",
        "dataset[\"Pressure9am\"]= dataset[\"Pressure9am\"].fillna(dataset[\"Pressure9am\"].median())\n",
        "dataset[\"Pressure3pm\"]= dataset[\"Pressure3pm\"].fillna(dataset[\"Pressure3pm\"].median())\n",
        "dataset[\"Cloud9am\"]= dataset[\"Cloud9am\"].fillna(dataset[\"Cloud9am\"].median())\n",
        "dataset[\"Cloud3pm\"]= dataset[\"Cloud3pm\"].fillna(dataset[\"Cloud3pm\"].median())\n",
        "dataset[\"Temp9am\"]= dataset[\"Temp9am\"].fillna(dataset[\"Temp9am\"].median())\n",
        "dataset[\"Temp3pm\"]= dataset[\"Temp3pm\"].fillna(dataset[\"Temp3pm\"].median())\n",
        "dataset['RainToday']=dataset['RainToday'].fillna(dataset['RainToday'].mode()[0])\n",
        "dataset['RainTomorrow']=dataset['RainTomorrow'].fillna(dataset['RainTomorrow'].mode()[0])\n",
        "dataset['WindDir9am'] = dataset['WindDir9am'].fillna(dataset['WindDir9am'].mode()[0])\n",
        "dataset['WindGustDir'] = dataset['WindGustDir'].fillna(dataset['WindGustDir'].mode()[0])\n",
        "dataset['WindDir3pm'] = dataset['WindDir3pm'].fillna(dataset['WindDir3pm'].mode()[0])"
      ],
      "execution_count": 48,
      "outputs": []
    },
    {
      "cell_type": "code",
      "metadata": {
        "colab": {
          "base_uri": "https://localhost:8080/"
        },
        "id": "vvMFKVJdUj-o",
        "outputId": "9063b287-1b8f-4020-aea5-c60c0b192d25"
      },
      "source": [
        "dataset.isnull().sum()"
      ],
      "execution_count": 49,
      "outputs": [
        {
          "output_type": "execute_result",
          "data": {
            "text/plain": [
              "Date             0\n",
              "Location         0\n",
              "MinTemp          0\n",
              "MaxTemp          0\n",
              "Rainfall         0\n",
              "Evaporation      0\n",
              "Sunshine         0\n",
              "WindGustDir      0\n",
              "WindGustSpeed    0\n",
              "WindDir9am       0\n",
              "WindDir3pm       0\n",
              "WindSpeed9am     0\n",
              "WindSpeed3pm     0\n",
              "Humidity9am      0\n",
              "Humidity3pm      0\n",
              "Pressure9am      0\n",
              "Pressure3pm      0\n",
              "Cloud9am         0\n",
              "Cloud3pm         0\n",
              "Temp9am          0\n",
              "Temp3pm          0\n",
              "RainToday        0\n",
              "RainTomorrow     0\n",
              "dtype: int64"
            ]
          },
          "metadata": {
            "tags": []
          },
          "execution_count": 49
        }
      ]
    },
    {
      "cell_type": "code",
      "metadata": {
        "colab": {
          "base_uri": "https://localhost:8080/",
          "height": 405
        },
        "id": "WVV75yOFUsxI",
        "outputId": "209e7dab-b482-4c01-fec7-fdcf8a77f480"
      },
      "source": [
        "sns.heatmap(dataset.isnull(),yticklabels=False,cbar=False,cmap='viridis')"
      ],
      "execution_count": 50,
      "outputs": [
        {
          "output_type": "execute_result",
          "data": {
            "text/plain": [
              "<matplotlib.axes._subplots.AxesSubplot at 0x7f0b53135210>"
            ]
          },
          "metadata": {
            "tags": []
          },
          "execution_count": 50
        },
        {
          "output_type": "display_data",
          "data": {
            "image/png": "[encoded data removed]",
            "text/plain": [
              "<Figure size 432x288 with 1 Axes>"
            ]
          },
          "metadata": {
            "tags": []
          }
        }
      ]
    },
    {
      "cell_type": "markdown",
      "metadata": {
        "id": "SNPfRM3OU5KA"
      },
      "source": [
        "#One hot encoding de variables categoricas y normalizacion de variables numericas"
      ]
    },
    {
      "cell_type": "code",
      "metadata": {
        "id": "MQGiBqa9U8-f"
      },
      "source": [
        "y=dataset['RainTomorrow']\n",
        "X=dataset.drop(labels=['RainTomorrow','Date'], axis=1)"
      ],
      "execution_count": 51,
      "outputs": []
    },
    {
      "cell_type": "code",
      "metadata": {
        "id": "kjLlAol9VUsH"
      },
      "source": [
        "from sklearn.preprocessing import label_binarize\n",
        "from sklearn.model_selection import train_test_split\n",
        "X_train, X_test, y_train, y_test = train_test_split(X,y, test_size=0.30, random_state=42)"
      ],
      "execution_count": 52,
      "outputs": []
    },
    {
      "cell_type": "code",
      "metadata": {
        "id": "Wjvd6eH1Xxt1"
      },
      "source": [
        "from sklearn.pipeline import Pipeline\n",
        "from sklearn.preprocessing import OneHotEncoder, MinMaxScaler"
      ],
      "execution_count": 53,
      "outputs": []
    },
    {
      "cell_type": "code",
      "metadata": {
        "id": "bWAKKSMNX3J5"
      },
      "source": [
        "encode=OneHotEncoder()\n",
        "scaler = MinMaxScaler()\n",
        "from sklearn.compose import make_column_transformer, ColumnTransformer"
      ],
      "execution_count": 54,
      "outputs": []
    },
    {
      "cell_type": "code",
      "metadata": {
        "colab": {
          "base_uri": "https://localhost:8080/"
        },
        "id": "qMkwJTT2YADR",
        "outputId": "d481afdf-712a-4854-fd7b-fc040f5670ed"
      },
      "source": [
        "X_train.select_dtypes('float').columns"
      ],
      "execution_count": 55,
      "outputs": [
        {
          "output_type": "execute_result",
          "data": {
            "text/plain": [
              "Index(['MinTemp', 'MaxTemp', 'Rainfall', 'Evaporation', 'Sunshine',\n",
              "       'WindGustSpeed', 'WindSpeed9am', 'WindSpeed3pm', 'Humidity9am',\n",
              "       'Humidity3pm', 'Pressure9am', 'Pressure3pm', 'Cloud9am', 'Cloud3pm',\n",
              "       'Temp9am', 'Temp3pm'],\n",
              "      dtype='object')"
            ]
          },
          "metadata": {
            "tags": []
          },
          "execution_count": 55
        }
      ]
    },
    {
      "cell_type": "code",
      "metadata": {
        "id": "aa47iihhYE5x"
      },
      "source": [
        "num_cols=['MinTemp', 'MaxTemp', 'Rainfall', 'Evaporation', 'Sunshine',\n",
        "       'WindGustSpeed', 'WindSpeed9am', 'WindSpeed3pm', 'Humidity9am',\n",
        "       'Humidity3pm', 'Pressure9am', 'Pressure3pm', 'Cloud9am', 'Cloud3pm',\n",
        "       'Temp9am', 'Temp3pm']\n",
        "\n",
        "cat_cols=['Location','WindGustDir','WindDir9am','WindDir3pm','RainToday']"
      ],
      "execution_count": 56,
      "outputs": []
    },
    {
      "cell_type": "code",
      "metadata": {
        "id": "fYUc_btLYlqs"
      },
      "source": [
        "column_transformer1 = ColumnTransformer(\n",
        "[('cat_feat',encode,cat_cols),\n",
        "('num_feat',scaler,num_cols)\n",
        "],\n",
        "remainder='passthrough')"
      ],
      "execution_count": 57,
      "outputs": []
    },
    {
      "cell_type": "code",
      "metadata": {
        "id": "1zF-6q3ZY14X"
      },
      "source": [
        "X_train=column_transformer1.fit_transform(X_train)\n",
        "X_test =column_transformer1.transform(X_test)"
      ],
      "execution_count": 58,
      "outputs": []
    },
    {
      "cell_type": "code",
      "metadata": {
        "id": "XyzhRMedab2H"
      },
      "source": [
        "y_train=y_train.apply(lambda label: 0 if (label == 'No') else 1)\n",
        "y_test=y_test.apply(lambda label: 0 if (label == 'No') else 1)"
      ],
      "execution_count": 59,
      "outputs": []
    },
    {
      "cell_type": "code",
      "metadata": {
        "colab": {
          "base_uri": "https://localhost:8080/"
        },
        "id": "lY5twMu1bVBn",
        "outputId": "2972fff6-8d53-4800-8942-40e12c78d227"
      },
      "source": [
        "print(y_test)"
      ],
      "execution_count": 60,
      "outputs": [
        {
          "output_type": "stream",
          "text": [
            "100721    1\n",
            "30234     0\n",
            "68427     0\n",
            "28624     0\n",
            "31173     0\n",
            "         ..\n",
            "130665    1\n",
            "67453     1\n",
            "19257     1\n",
            "13928     0\n",
            "75366     0\n",
            "Name: RainTomorrow, Length: 43638, dtype: int64\n"
          ],
          "name": "stdout"
        }
      ]
    },
    {
      "cell_type": "markdown",
      "metadata": {
        "id": "pvSdbSEi2_k5"
      },
      "source": [
        "# Modelos implementados"
      ]
    },
    {
      "cell_type": "markdown",
      "metadata": {
        "id": "R90qgkT3Z-hz"
      },
      "source": [
        "**Modelo Base**"
      ]
    },
    {
      "cell_type": "code",
      "metadata": {
        "id": "Ui8lDpt6Y4Ww"
      },
      "source": [
        "class RandomModel(object):\n",
        "\n",
        "    def fit(self, X, y):\n",
        "        return None\n",
        "\n",
        "    def predict(self, X):\n",
        "        return np.random.randint(0,1, size=X.shape[0])"
      ],
      "execution_count": 61,
      "outputs": []
    },
    {
      "cell_type": "code",
      "metadata": {
        "id": "_t5ql859aELq"
      },
      "source": [
        "random_model = RandomModel()\n",
        "random_model.fit(X_train, y_train)\n",
        "rm_predictions = random_model.predict(X_test)"
      ],
      "execution_count": 62,
      "outputs": []
    },
    {
      "cell_type": "code",
      "metadata": {
        "colab": {
          "base_uri": "https://localhost:8080/"
        },
        "id": "kpjuHoaVaPLf",
        "outputId": "12101fbe-b1f6-4e02-dc3c-0ce6fe94adbb"
      },
      "source": [
        "fpr, tpr, thresholds = metrics.roc_curve(y_test, rm_predictions)\n",
        "roc_auc = metrics.auc(fpr, tpr)\n",
        "print(metrics.auc(fpr, tpr))"
      ],
      "execution_count": 63,
      "outputs": [
        {
          "output_type": "stream",
          "text": [
            "0.5\n"
          ],
          "name": "stdout"
        }
      ]
    },
    {
      "cell_type": "code",
      "metadata": {
        "colab": {
          "base_uri": "https://localhost:8080/",
          "height": 317
        },
        "id": "iYXIA6N3bbXW",
        "outputId": "b9340ed0-7a9e-4f0f-d6de-df31b317dfae"
      },
      "source": [
        "plt.figure()\n",
        "plt.plot(fpr, tpr, label='ROC curve (area = %0.2f)' % roc_auc)\n",
        "plt.plot([0, 1], [0, 1], 'k--')\n",
        "plt.xlim([0.0, 1.0])\n",
        "plt.ylim([0.0, 1.05])\n",
        "plt.xlabel('False Positive Rate')\n",
        "plt.ylabel('True Positive Rate')\n",
        "plt.title('Curva ROC - Random Model')\n",
        "plt.legend(loc=\"lower right\")\n",
        "plt.show()"
      ],
      "execution_count": 64,
      "outputs": [
        {
          "output_type": "display_data",
          "data": {
            "image/png": "[encoded data removed]",
            "text/plain": [
              "<Figure size 432x288 with 1 Axes>"
            ]
          },
          "metadata": {
            "tags": []
          }
        }
      ]
    },
    {
      "cell_type": "markdown",
      "metadata": {
        "id": "jAzoErPubg2f"
      },
      "source": [
        "**Regresion logistica**"
      ]
    },
    {
      "cell_type": "code",
      "metadata": {
        "colab": {
          "base_uri": "https://localhost:8080/"
        },
        "id": "B-18Jy1ugK7K",
        "outputId": "b620e78f-178d-4441-d9a2-adf5bd1724d4"
      },
      "source": [
        "from sklearn.metrics import confusion_matrix\n",
        "from sklearn.metrics import accuracy_score\n",
        "model = LogisticRegression(max_iter=500)\n",
        "model.fit(X_train, y_train)\n",
        "predicted=model.predict(X_test)\n",
        "\n",
        "conf = confusion_matrix(y_test, predicted)\n",
        "print (\"The accuracy of Logistic Regression is : \", accuracy_score(y_test, predicted)*100, \"%\")\n"
      ],
      "execution_count": 67,
      "outputs": [
        {
          "output_type": "stream",
          "text": [
            "The accuracy of Logistic Regression is :  84.91681561941428 %\n"
          ],
          "name": "stdout"
        }
      ]
    },
    {
      "cell_type": "markdown",
      "metadata": {
        "id": "D0uuS9cShWJD"
      },
      "source": [
        "**XG BOOST**"
      ]
    },
    {
      "cell_type": "code",
      "metadata": {
        "colab": {
          "base_uri": "https://localhost:8080/"
        },
        "id": "VYzaNbQJhYML",
        "outputId": "381e7220-8c87-4a13-85bc-24d1d8248e0c"
      },
      "source": [
        "from xgboost import XGBClassifier\n",
        "xgb = XGBClassifier(max_depth=16,\n",
        "                    n_estimators=1000)\n",
        "xgb.fit(X_train,y_train)"
      ],
      "execution_count": 68,
      "outputs": [
        {
          "output_type": "execute_result",
          "data": {
            "text/plain": [
              "XGBClassifier(base_score=0.5, booster='gbtree', colsample_bylevel=1,\n",
              "              colsample_bynode=1, colsample_bytree=1, gamma=0,\n",
              "              learning_rate=0.1, max_delta_step=0, max_depth=16,\n",
              "              min_child_weight=1, missing=None, n_estimators=1000, n_jobs=1,\n",
              "              nthread=None, objective='binary:logistic', random_state=0,\n",
              "              reg_alpha=0, reg_lambda=1, scale_pos_weight=1, seed=None,\n",
              "              silent=None, subsample=1, verbosity=1)"
            ]
          },
          "metadata": {
            "tags": []
          },
          "execution_count": 68
        }
      ]
    },
    {
      "cell_type": "code",
      "metadata": {
        "id": "SO4aVkADxpMH"
      },
      "source": [
        "probs = xgb.predict_proba(X_test)[:,1]\n",
        "pred = xgb.predict(X_test)"
      ],
      "execution_count": 69,
      "outputs": []
    },
    {
      "cell_type": "code",
      "metadata": {
        "colab": {
          "base_uri": "https://localhost:8080/"
        },
        "id": "knFN1dJux4dp",
        "outputId": "6fdb3595-d501-4b7f-df58-e57367d974c0"
      },
      "source": [
        "from sklearn.metrics import accuracy_score , classification_report, roc_auc_score\n",
        "accuracy = accuracy_score(y_test,pred)\n",
        "roc_auc = roc_auc_score(y_test,probs)\n",
        "print(\"Accuracy = {}\".format(accuracy))\n",
        "print(\"ROC score = {}\".format(roc_auc))\n",
        "print(classification_report(y_test,pred))"
      ],
      "execution_count": 70,
      "outputs": [
        {
          "output_type": "stream",
          "text": [
            "Accuracy = 0.8614510289197489\n",
            "ROC score = 0.8930273284320036\n",
            "              precision    recall  f1-score   support\n",
            "\n",
            "           0       0.88      0.95      0.91     33987\n",
            "           1       0.76      0.55      0.64      9651\n",
            "\n",
            "    accuracy                           0.86     43638\n",
            "   macro avg       0.82      0.75      0.78     43638\n",
            "weighted avg       0.85      0.86      0.85     43638\n",
            "\n"
          ],
          "name": "stdout"
        }
      ]
    }
  ]
}