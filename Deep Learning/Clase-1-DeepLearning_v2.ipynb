{
 "cells": [
  {
   "cell_type": "code",
   "execution_count": 1,
   "metadata": {},
   "outputs": [
    {
     "name": "stdout",
     "output_type": "stream",
     "text": [
      "\n",
      "Output from neural network after 10,000 epochs: 0.6642470408468446\n"
     ]
    }
   ],
   "source": [
    "import numpy as np \n",
    "#np.random.seed(0)\n",
    "\n",
    "def sigmoid(x):\n",
    "    '''\n",
    "    Función sigmoid en el punto x.\n",
    "    '''\n",
    "    return (1 / (1+np.exp(-x)))\n",
    "\n",
    "\n",
    "#Input datasets\n",
    "inputs = np.array([[0,0],[0,1],[1,0],[1,1]])\n",
    "\n",
    "\n",
    "Y = np.array([[0],[1],[1],[0]])\n",
    "\n",
    "lr = 0.1\n",
    "epochs = 15000\n",
    "\n",
    "\n",
    "X1=inputs[:, 0]\n",
    "X2=inputs[:, 1]\n",
    "\n",
    "#np.random.seed(37)\n",
    "#Random weight initialization\n",
    "#hidden\n",
    "w1 = np.random.uniform(size=(2,2))*0.25 #2,2\n",
    "b1 = np.random.uniform(size=(2,1))*0.25 #2,1\n",
    "#output\n",
    "w2 = np.random.uniform(size=(2,1))*0.25 #2,1\n",
    "b2 = np.random.uniform(size=(1,1))*0.25 #1,1\n",
    "\n",
    "\n",
    "#Training algorithm\n",
    "for i in range(epochs):\n",
    "    #idx = np.random.permutation(x_train.shape[0])\n",
    "    #x = x_train[idx, :]\n",
    "    #y = y_train[idx, :]\n",
    "    for j in range(4):\n",
    "        # Feedforward\n",
    "        z1 = X1[j] * w1[0, 0] + X2[j] * w1[0, 1] + b1[0, 0]\n",
    "        z2 = X1[j] * w1[1, 0] + X2[j] * w1[1, 1] + b1[1, 0]\n",
    "        a1 = sigmoid(z1)\n",
    "        a2 = sigmoid(z2)\n",
    "        prediction = a1 * w2[0, 0] + a2 * w2[1, 0] + b2[0,0]\n",
    "        error = (Y[j, 0]-prediction)\n",
    "\n",
    "\n",
    "        w21_d =(-2*error)*a1 #W1(2)\n",
    "        w22_d =(-2*error)*a2 #W2(2)\n",
    "        b2_d =(-2*error)#b(2)\n",
    "        \n",
    "        \n",
    "        #actualizacion de parametros output\n",
    "        w2[0, 0]=w2[0, 0]-lr*(w21_d)\n",
    "        w2[1, 0]=w2[1, 0]-lr*(w22_d)\n",
    "        b2[0,0]=b2[0,0]-lr*(b2_d)\n",
    "        \n",
    "        \n",
    "        #hidden\n",
    "        w_1_1_1_hidden=(-2*error*w2[0, 0])*(a1*(1-a1))*(X1[j])\n",
    "        w_1_2_1_hidden=(-2*error*w2[1, 0])*(a1*(1-a1))*(X2[j])\n",
    "        w_2_1_1_hidden=(-2*error*w2[0, 0])*(a2*(1-a2))*(X1[j])\n",
    "        w_2_2_1_hidden=(-2*error*w2[1, 0])*(a2*(1-a2))*(X2[j])\n",
    "        b_1_hidden=(-2*error)\n",
    "        b_2_hidden=(-2*error)\n",
    "        \n",
    "        \n",
    "        #actualizacion de parametros\n",
    "        w1[0, 0]=w1[0, 0]-lr*w_1_1_1_hidden#[j]\n",
    "        w1[0, 1]=w1[0, 1]-lr*w_1_2_1_hidden#[j]\n",
    "        w1[1, 0]=w1[1, 0]-lr*w_2_1_1_hidden#[j]\n",
    "        w1[1, 1]=w1[1, 1]-lr*w_2_2_1_hidden#[j]\n",
    "        b1[0, 0]=b1[0, 0]-lr*b_1_hidden#[j]\n",
    "        b1[1, 0]=b1[1, 0]-lr*b_2_hidden#[j]\n",
    "        \n",
    "        \n",
    "print(\"\\nOutput from neural network after 10,000 epochs: \",end='')\n",
    "print(prediction)    \n"
   ]
  },
  {
   "cell_type": "code",
   "execution_count": 2,
   "metadata": {},
   "outputs": [
    {
     "name": "stdout",
     "output_type": "stream",
     "text": [
      "0\n",
      "[[0.56647056]]\n",
      "1\n",
      "[[0.7459657]]\n",
      "1\n",
      "[[0.559884]]\n",
      "0\n",
      "[[0.56777066]]\n"
     ]
    }
   ],
   "source": [
    "x = np.array([[0,0],[0,1],[1,0],[1,1]])\n",
    "\n",
    "for i in range(4):\n",
    "    print(Y[i, 0])\n",
    "    print(sigmoid(w2.T@sigmoid(w1@(x[i].T.reshape(-1,1))+b1)+b2))\n",
    "\n",
    "  "
   ]
  }
 ],
 "metadata": {
  "kernelspec": {
   "display_name": "Python 3",
   "language": "python",
   "name": "python3"
  },
  "language_info": {
   "codemirror_mode": {
    "name": "ipython",
    "version": 3
   },
   "file_extension": ".py",
   "mimetype": "text/x-python",
   "name": "python",
   "nbconvert_exporter": "python",
   "pygments_lexer": "ipython3",
   "version": "3.8.3"
  }
 },
 "nbformat": 4,
 "nbformat_minor": 4
}
